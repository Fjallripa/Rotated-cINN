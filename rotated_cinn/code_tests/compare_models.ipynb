{
 "cells": [
  {
   "attachments": {},
   "cell_type": "markdown",
   "metadata": {},
   "source": [
    "# Comparison between different models and datasets"
   ]
  },
  {
   "attachments": {},
   "cell_type": "markdown",
   "metadata": {},
   "source": [
    "### Imports and Parameters"
   ]
  },
  {
   "cell_type": "code",
   "execution_count": 1,
   "metadata": {},
   "outputs": [],
   "source": [
    "# External libraries\n",
    "import numpy as np\n",
    "import torch\n",
    "from torch.utils.data import Dataset, DataLoader\n",
    "from torchvision import datasets, transforms\n",
    "import matplotlib.pyplot as plt"
   ]
  },
  {
   "cell_type": "code",
   "execution_count": 2,
   "metadata": {},
   "outputs": [],
   "source": [
    "# Make all files in the repository accessible\n",
    "import path\n",
    "import sys\n",
    "repo_directory = path.package_directory + \"/..\"\n",
    "sys.path.append(repo_directory)"
   ]
  },
  {
   "cell_type": "code",
   "execution_count": 3,
   "metadata": {},
   "outputs": [],
   "source": [
    "# Own modules\n",
    "import reference_code.mnist_minimal_example.model as og_model\n",
    "from modules.model import Rotated_cINN\n",
    "\n",
    "from reference_code.mnist_minimal_example.data import train_data as og_train\n",
    "from reference_code.mnist_minimal_example.data import unnormalize as og_unnormalize\n",
    "from modules.data import RotatedMNIST"
   ]
  },
  {
   "cell_type": "code",
   "execution_count": 4,
   "metadata": {},
   "outputs": [],
   "source": [
    "# Parameters\n",
    "device = 'cuda'  if torch.cuda.is_available() else  'cpu'\n",
    "random_seed = 1"
   ]
  },
  {
   "attachments": {},
   "cell_type": "markdown",
   "metadata": {},
   "source": [
    "### Loading Models and Datasets"
   ]
  },
  {
   "attachments": {},
   "cell_type": "markdown",
   "metadata": {},
   "source": [
    "#### Definitions"
   ]
  },
  {
   "cell_type": "code",
   "execution_count": 5,
   "metadata": {},
   "outputs": [],
   "source": [
    "def load_model(name:str):\n",
    "    model_path = path.package_directory + f\"/trained_models/{name}.pt\"\n",
    "    model = Rotated_cINN().to(device)\n",
    "    state_dict = {k:v for k,v in torch.load(model_path).items() if 'tmp_var' not in k}\n",
    "    model.load_state_dict(state_dict)\n",
    "    model.eval()\n",
    "\n",
    "    return model \n",
    "\n",
    "\n",
    "class CinnMnist(Dataset):\n",
    "    def __init__(self, data, labels) -> None:\n",
    "        super().__init__()\n",
    "        self.data = data\n",
    "        self.targets = labels\n",
    "\n",
    "    def __getitem__(self, index):\n",
    "        return self.data[index], self.targets[index]\n",
    "    \n",
    "    def __len__(self):\n",
    "        return len(self.targets)"
   ]
  },
  {
   "attachments": {},
   "cell_type": "markdown",
   "metadata": {},
   "source": [
    "#### Models"
   ]
  },
  {
   "cell_type": "code",
   "execution_count": 6,
   "metadata": {},
   "outputs": [],
   "source": [
    "\n",
    "# original cINN model\n",
    "model_path = repo_directory + '/reference_code/mnist_minimal_example/output/mnist_cinn.pt'\n",
    "og_cinn = og_model.MNIST_cINN(0).to(device)\n",
    "og_cinn.to(device)\n",
    "state_dict = {k:v for k,v in torch.load(model_path).items() if 'tmp_var' not in k}\n",
    "og_cinn.load_state_dict(state_dict)\n",
    "og_cinn.eval();\n",
    "\n",
    "\n",
    "# different Rotated cINN models\n",
    "oned_cinn = load_model(\"sanity_check_one_domain\")\n",
    "norm_cinn = load_model(\"normalized_data\")\n",
    "aug_one_cinn = load_model(\"augmented_one_domain\")\n",
    "augm_cinn = load_model(\"augmented_multi_domain\")\n"
   ]
  },
  {
   "attachments": {},
   "cell_type": "markdown",
   "metadata": {},
   "source": [
    "#### Datasets"
   ]
  },
  {
   "cell_type": "code",
   "execution_count": 7,
   "metadata": {},
   "outputs": [],
   "source": [
    "# raw MNIST\n",
    "data_directory = path.package_directory + \"/data\"\n",
    "torch.manual_seed(random_seed)\n",
    "\n",
    "mnist = datasets.MNIST(data_directory, train=True, download=True, transform=transforms.Compose([transforms.ToTensor(), lambda x: (x - 0.128) / 0.305]))\n",
    "mnist.transform = transforms.Compose([mnist.transform, lambda x: x + 0.08 * torch.randn_like(x)])\n",
    "\n",
    "loader = DataLoader(mnist, batch_size=len(mnist.targets), shuffle=True)\n",
    "images, labels = next(iter(loader))\n",
    "images = images.squeeze(1)   # remove the batch dimension\n",
    "\n",
    "mnist_data = CinnMnist(images, labels)\n",
    "\n",
    "\n",
    "# original cINN MNIST - normalized and augmented\n",
    "torch.manual_seed(random_seed)\n",
    "loader = DataLoader(og_train, batch_size=len(og_train.targets), shuffle=True)\n",
    "images, labels = next(iter(loader))\n",
    "images = images.squeeze(1)   # remove the batch dimension\n",
    "og_data = CinnMnist(images, labels)"
   ]
  },
  {
   "cell_type": "code",
   "execution_count": 8,
   "metadata": {},
   "outputs": [],
   "source": [
    "# Rotated MNIST - one domain (0° like MNIST)\n",
    "domains = [0]\n",
    "oned_data = RotatedMNIST(domains=domains, train=True, seed=random_seed, val_set_size=1000)\n",
    "\n",
    "\n",
    "# Rotated MNIST - multiple domains, normalized\n",
    "domains = [-23, 0, 23, 45, 90, 180]\n",
    "norm_data = RotatedMNIST(domains=domains, train=True, seed=random_seed, val_set_size=1000, normalize=True)\n",
    "\n",
    "\n",
    "# Rotated MNIST - one domain, normalized and augmented\n",
    "domains = [0]\n",
    "augm_data = RotatedMNIST(domains=domains, train=True, seed=random_seed, val_set_size=1000, normalize=True, add_noise=True)\n"
   ]
  },
  {
   "attachments": {},
   "cell_type": "markdown",
   "metadata": {},
   "source": [
    "## Tests and comparisons"
   ]
  },
  {
   "attachments": {},
   "cell_type": "markdown",
   "metadata": {},
   "source": [
    "### Dataset comparisons"
   ]
  },
  {
   "cell_type": "code",
   "execution_count": 9,
   "metadata": {},
   "outputs": [],
   "source": [
    "# Definitions\n",
    "\n",
    "def run_data_test(data: np.ndarray, name=\"\"):\n",
    "    print(f\"\\n{name}\")\n",
    "    print(f\"min: {data.min():.4f}, median: {np.median(data):.4f}, max: {data.max():.4f}\")\n",
    "    print(f\"mean: {data.mean():.4f}, std: {data.std():.4f}\")\n",
    "    \n",
    "    fraction_above_one = np.count_nonzero(data > 1) / len(data.flatten())\n",
    "    fraction_below_zero = np.count_nonzero(data < 0) / len(data.flatten())\n",
    "    fraction_in_range = 1 - fraction_above_one - fraction_below_zero\n",
    "    percent = lambda x: f\"{100*x:.2f} %\"\n",
    "    print(f\"x<0:{percent(fraction_below_zero)}, 0<=x<=1: {percent(fraction_in_range)}, x>1:{percent(fraction_above_one)}\")\n",
    "\n",
    "\n",
    "    hist_range = (-3, 3)\n",
    "    flat_data = data.flatten()\n",
    "    clipped_data = np.clip(flat_data, *hist_range)\n",
    "    plt.figure(figsize=(6, 3))\n",
    "    plt.hist(clipped_data, bins=100, range=hist_range, density=True)\n",
    "    plt.yscale('log')\n",
    "    plt.ylim(10**-2, 2*10**1)\n",
    "    plt.show()"
   ]
  },
  {
   "attachments": {},
   "cell_type": "markdown",
   "metadata": {},
   "source": [
    "#### Comparing the dataset pixel value distributions"
   ]
  },
  {
   "cell_type": "code",
   "execution_count": 10,
   "metadata": {},
   "outputs": [],
   "source": [
    "# Loading the dataset images\n",
    "mnist_train_data = mnist_data.data.cpu().numpy()\n",
    "og_train_data = og_data.data.cpu().numpy()\n",
    "oned_train_data = oned_data.data.cpu().numpy()\n",
    "norm_train_data = norm_data.data.cpu().numpy()\n",
    "augm_train_data = augm_data.data.cpu().numpy()"
   ]
  },
  {
   "cell_type": "code",
   "execution_count": 11,
   "metadata": {},
   "outputs": [
    {
     "name": "stdout",
     "output_type": "stream",
     "text": [
      "\n",
      "raw MNIST train data\n",
      "min: -0.8447, median: -0.3962, max: 3.2576\n",
      "mean: 0.0087, std: 1.0134\n",
      "x<0:82.96 %, 0<=x<=1: 3.20 %, x>1:13.84 %\n"
     ]
    },
    {
     "data": {
      "image/png": "[encoded data removed]",
      "text/plain": [
       "<Figure size 600x300 with 1 Axes>"
      ]
     },
     "metadata": {},
     "output_type": "display_data"
    },
    {
     "name": "stdout",
     "output_type": "stream",
     "text": [
      "\n",
      "Original cINN train data\n",
      "min: -0.8510, median: -0.3962, max: 3.2355\n",
      "mean: 0.0089, std: 1.0136\n",
      "x<0:82.95 %, 0<=x<=1: 3.20 %, x>1:13.85 %\n"
     ]
    },
    {
     "data": {
      "image/png": "[encoded data removed]",
      "text/plain": [
       "<Figure size 600x300 with 1 Axes>"
      ]
     },
     "metadata": {},
     "output_type": "display_data"
    },
    {
     "name": "stdout",
     "output_type": "stream",
     "text": [
      "\n",
      "One Domain train data\n",
      "min: 0.0000, median: 0.0000, max: 1.0000\n",
      "mean: 0.1306, std: 0.3081\n",
      "x<0:0.00 %, 0<=x<=1: 100.00 %, x>1:0.00 %\n"
     ]
    },
    {
     "data": {
      "image/png": "[encoded data removed]",
      "text/plain": [
       "<Figure size 600x300 with 1 Axes>"
      ]
     },
     "metadata": {},
     "output_type": "display_data"
    },
    {
     "name": "stdout",
     "output_type": "stream",
     "text": [
      "\n",
      "Normalized train data\n",
      "min: -0.4241, median: -0.4241, max: 2.8206\n",
      "mean: 0.0001, std: 1.0000\n",
      "x<0:83.01 %, 0<=x<=1: 3.17 %, x>1:13.82 %\n"
     ]
    },
    {
     "data": {
      "image/png": "[encoded data removed]",
      "text/plain": [
       "<Figure size 600x300 with 1 Axes>"
      ]
     },
     "metadata": {},
     "output_type": "display_data"
    },
    {
     "name": "stdout",
     "output_type": "stream",
     "text": [
      "\n",
      "Augmented train data\n",
      "min: -0.8554, median: -0.4006, max: 3.2194\n",
      "mean: -0.0002, std: 1.0028\n",
      "x<0:83.00 %, 0<=x<=1: 3.22 %, x>1:13.79 %\n"
     ]
    },
    {
     "data": {
      "image/png": "[encoded data removed]",
      "text/plain": [
       "<Figure size 600x300 with 1 Axes>"
      ]
     },
     "metadata": {},
     "output_type": "display_data"
    }
   ],
   "source": [
    "run_data_test(mnist_train_data, \"raw MNIST train data\")\n",
    "run_data_test(og_train_data, \"Original cINN train data\")\n",
    "run_data_test(oned_train_data, \"One Domain train data\")\n",
    "run_data_test(norm_train_data, \"Normalized train data\")\n",
    "run_data_test(augm_train_data, \"Augmented train data\")"
   ]
  },
  {
   "attachments": {},
   "cell_type": "markdown",
   "metadata": {},
   "source": [
    "### Model comparisons"
   ]
  },
  {
   "attachments": {},
   "cell_type": "markdown",
   "metadata": {},
   "source": [
    "#### Sampling images"
   ]
  },
  {
   "cell_type": "code",
   "execution_count": 12,
   "metadata": {},
   "outputs": [],
   "source": [
    "# Parameters\n",
    "\n",
    "sample_shape = (1000,)\n",
    "latent_tensor = torch.randn((*sample_shape, 28*28))\n",
    "labels = torch.randint(0, 10, sample_shape)"
   ]
  },
  {
   "cell_type": "code",
   "execution_count": 13,
   "metadata": {},
   "outputs": [],
   "source": [
    "# Definitions\n",
    "\n",
    "def rotated_conditions(domains):\n",
    "    domain_labels = torch.randint(0, len(domains), sample_shape)\n",
    "    conditions = torch.zeros((*sample_shape, 12))\n",
    "    conditions[..., :2] = RotatedMNIST._deg2sincos(domain_labels)\n",
    "    conditions[..., 2:] = torch.eye(10)[labels]\n",
    "\n",
    "    return conditions\n",
    "\n",
    "\n",
    "def sample_images(model:Rotated_cINN, dataset:RotatedMNIST) -> np.ndarray:\n",
    "    conditions = rotated_conditions(dataset.domains)\n",
    "    model_images = model.reverse(latent_tensor, conditions)[0].cpu().numpy()\n",
    "    images = dataset.unnormalize(model_images)\n",
    "    \n",
    "    return images"
   ]
  },
  {
   "cell_type": "code",
   "execution_count": 14,
   "metadata": {},
   "outputs": [],
   "source": [
    "# Sample images for each model\n",
    "\n",
    "with torch.no_grad():\n",
    "    og_images = og_cinn.reverse_sample(latent_tensor, labels)[0].cpu().numpy()\n",
    "    og_images = og_unnormalize(og_images)\n",
    "    oned_images = sample_images(oned_cinn, oned_data)\n",
    "    norm_images = sample_images(norm_cinn, norm_data)\n",
    "    aug_one_images = sample_images(aug_one_cinn, augm_data)\n",
    "    augm_images = sample_images(augm_cinn, augm_data)"
   ]
  },
  {
   "cell_type": "code",
   "execution_count": 15,
   "metadata": {},
   "outputs": [
    {
     "name": "stdout",
     "output_type": "stream",
     "text": [
      "\n",
      "Original cINN generated images\n",
      "min: -113.7328, median: 0.0085, max: 316.4681\n",
      "mean: 0.1220, std: 0.6435\n",
      "x<0:39.93 %, 0<=x<=1: 57.28 %, x>1:2.79 %\n"
     ]
    },
    {
     "data": {
      "image/png": "[encoded data removed]",
      "text/plain": [
       "<Figure size 600x300 with 1 Axes>"
      ]
     },
     "metadata": {},
     "output_type": "display_data"
    },
    {
     "name": "stdout",
     "output_type": "stream",
     "text": [
      "\n",
      "One Domain generated images\n",
      "min: -623.8181, median: 0.0002, max: 10758.4092\n",
      "mean: 0.2114, std: 18.2175\n",
      "x<0:34.32 %, 0<=x<=1: 64.21 %, x>1:1.47 %\n"
     ]
    },
    {
     "data": {
      "image/png": "[encoded data removed]",
      "text/plain": [
       "<Figure size 600x300 with 1 Axes>"
      ]
     },
     "metadata": {},
     "output_type": "display_data"
    },
    {
     "name": "stdout",
     "output_type": "stream",
     "text": [
      "\n",
      "Normalized generated images\n",
      "min: -529.3862, median: 0.1308, max: 5157.7104\n",
      "mean: 0.1956, std: 7.5970\n",
      "x<0:0.50 %, 0<=x<=1: 99.02 %, x>1:0.48 %\n"
     ]
    },
    {
     "data": {
      "image/png": "[encoded data removed]",
      "text/plain": [
       "<Figure size 600x300 with 1 Axes>"
      ]
     },
     "metadata": {},
     "output_type": "display_data"
    },
    {
     "name": "stdout",
     "output_type": "stream",
     "text": [
      "\n",
      "Augmented (one domain) generated images\n",
      "min: -31.9082, median: 0.0034, max: 621.1414\n",
      "mean: 0.0929, std: 1.3428\n",
      "x<0:46.09 %, 0<=x<=1: 50.97 %, x>1:2.93 %\n"
     ]
    },
    {
     "data": {
      "image/png": "[encoded data removed]",
      "text/plain": [
       "<Figure size 600x300 with 1 Axes>"
      ]
     },
     "metadata": {},
     "output_type": "display_data"
    },
    {
     "name": "stdout",
     "output_type": "stream",
     "text": [
      "\n",
      "Augmented generated images\n",
      "min: -251.8287, median: 0.0054, max: 4671.6680\n",
      "mean: 0.0599, std: 6.3869\n",
      "x<0:44.10 %, 0<=x<=1: 53.36 %, x>1:2.54 %\n"
     ]
    },
    {
     "data": {
      "image/png": "[encoded data removed]",
      "text/plain": [
       "<Figure size 600x300 with 1 Axes>"
      ]
     },
     "metadata": {},
     "output_type": "display_data"
    }
   ],
   "source": [
    "run_data_test(og_images, \"Original cINN generated images\")\n",
    "run_data_test(oned_images, \"One Domain generated images\")\n",
    "run_data_test(norm_images, \"Normalized generated images\")\n",
    "run_data_test(aug_one_images, \"Augmented (one domain) generated images\")\n",
    "run_data_test(augm_images, \"Augmented generated images\")"
   ]
  }
 ],
 "metadata": {
  "kernelspec": {
   "display_name": "rot-cinn",
   "language": "python",
   "name": "python3"
  },
  "language_info": {
   "codemirror_mode": {
    "name": "ipython",
    "version": 3
   },
   "file_extension": ".py",
   "mimetype": "text/x-python",
   "name": "python",
   "nbconvert_exporter": "python",
   "pygments_lexer": "ipython3",
   "version": "3.10.10"
  },
  "orig_nbformat": 4
 },
 "nbformat": 4,
 "nbformat_minor": 2
}
