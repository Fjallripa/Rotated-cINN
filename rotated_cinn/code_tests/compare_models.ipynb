{
 "cells": [
  {
   "attachments": {},
   "cell_type": "markdown",
   "metadata": {},
   "source": [
    "# Comparison between different models and datasets"
   ]
  },
  {
   "attachments": {},
   "cell_type": "markdown",
   "metadata": {},
   "source": [
    "### Imports and Parameters"
   ]
  },
  {
   "cell_type": "code",
   "execution_count": 1,
   "metadata": {},
   "outputs": [],
   "source": [
    "# External libraries\n",
    "import numpy as np\n",
    "import torch\n",
    "from torch.utils.data import Dataset, DataLoader\n",
    "from torchvision import datasets, transforms\n",
    "import matplotlib.pyplot as plt"
   ]
  },
  {
   "cell_type": "code",
   "execution_count": 2,
   "metadata": {},
   "outputs": [],
   "source": [
    "# Make all files in the repository accessible\n",
    "import path\n",
    "import sys\n",
    "repo_directory = path.package_directory + \"/..\"\n",
    "sys.path.append(repo_directory)"
   ]
  },
  {
   "cell_type": "code",
   "execution_count": 3,
   "metadata": {},
   "outputs": [],
   "source": [
    "# Own modules\n",
    "import reference_code.mnist_minimal_example.model as og_model\n",
    "from modules.model import Rotated_cINN\n",
    "\n",
    "from reference_code.mnist_minimal_example.data import train_data as og_train\n",
    "from reference_code.mnist_minimal_example.data import unnormalize as og_unnormalize\n",
    "from modules.data import RotatedMNIST"
   ]
  },
  {
   "cell_type": "code",
   "execution_count": 4,
   "metadata": {},
   "outputs": [],
   "source": [
    "# Parameters\n",
    "device = 'cuda'  if torch.cuda.is_available() else  'cpu'\n",
    "random_seed = 1"
   ]
  },
  {
   "attachments": {},
   "cell_type": "markdown",
   "metadata": {},
   "source": [
    "### Loading Models and Datasets"
   ]
  },
  {
   "attachments": {},
   "cell_type": "markdown",
   "metadata": {},
   "source": [
    "#### Definitions"
   ]
  },
  {
   "cell_type": "code",
   "execution_count": 5,
   "metadata": {},
   "outputs": [],
   "source": [
    "def load_model(name:str):\n",
    "    model_path = path.package_directory + f\"/trained_models/{name}.pt\"\n",
    "    model = Rotated_cINN().to(device)\n",
    "    state_dict = {k:v for k,v in torch.load(model_path).items() if 'tmp_var' not in k}\n",
    "    model.load_state_dict(state_dict)\n",
    "    model.eval()\n",
    "\n",
    "    return model \n",
    "\n",
    "\n",
    "class CinnMnist(Dataset):\n",
    "    def __init__(self, data, labels) -> None:\n",
    "        super().__init__()\n",
    "        self.data = data\n",
    "        self.targets = labels\n",
    "\n",
    "    def __getitem__(self, index):\n",
    "        return self.data[index], self.targets[index]\n",
    "    \n",
    "    def __len__(self):\n",
    "        return len(self.targets)"
   ]
  },
  {
   "attachments": {},
   "cell_type": "markdown",
   "metadata": {},
   "source": [
    "#### Models"
   ]
  },
  {
   "cell_type": "code",
   "execution_count": 33,
   "metadata": {},
   "outputs": [],
   "source": [
    "\n",
    "# original cINN model\n",
    "model_path = repo_directory + '/reference_code/mnist_minimal_example/output/mnist_cinn.pt'\n",
    "og_cinn = og_model.MNIST_cINN(0).to(device)\n",
    "og_cinn.to(device)\n",
    "state_dict = {k:v for k,v in torch.load(model_path).items() if 'tmp_var' not in k}\n",
    "og_cinn.load_state_dict(state_dict)\n",
    "og_cinn.eval();\n",
    "\n",
    "\n",
    "# different Rotated cINN models\n",
    "oned_cinn = load_model(\"sanity_check_one_domain\")\n",
    "norm_cinn = load_model(\"normalized_data\")\n",
    "aug_one_cinn = load_model(\"augmented_one_domain\")\n",
    "augm_cinn = load_model(\"augmented_multi_domain\")\n",
    "laug_cinn = load_model(\"lazy_augmentation\")\n",
    "\n"
   ]
  },
  {
   "attachments": {},
   "cell_type": "markdown",
   "metadata": {},
   "source": [
    "#### Datasets"
   ]
  },
  {
   "cell_type": "code",
   "execution_count": 6,
   "metadata": {},
   "outputs": [],
   "source": [
    "def mini_test(data, name):\n",
    "    print(name)\n",
    "    print(f\"type: {type(data)}\")\n",
    "    if type(data) == torch.Tensor:\n",
    "        print(f\"size: {data.shape}, dtype: {data.dtype}\")\n",
    "        print(f\"min: {data.min():.4f}, max: {data.max():.4f}\")\n",
    "        if data.dtype == torch.float:\n",
    "            print(f\"median: {np.median(data):.4f}\")\n",
    "            print(f\"mean: {data.mean():.4f}, std: {data.std():.4f}\")\n",
    "    print(\"\")"
   ]
  },
  {
   "cell_type": "code",
   "execution_count": 7,
   "metadata": {},
   "outputs": [
    {
     "name": "stdout",
     "output_type": "stream",
     "text": [
      "mnist_tf_norm\n",
      "type: <class 'torch.Tensor'>\n",
      "size: torch.Size([60000, 28, 28]), dtype: torch.uint8\n",
      "min: 0.0000, max: 255.0000\n",
      "\n",
      "og_val\n",
      "type: <class 'torch.Tensor'>\n",
      "size: torch.Size([1024, 1, 28, 28]), dtype: torch.float32\n",
      "min: -0.4197, max: 2.8590\n",
      "median: -0.4197\n",
      "mean: -0.0004, std: 0.9992\n",
      "\n",
      "mnist_wo_val\n",
      "type: <class 'torch.Tensor'>\n",
      "size: torch.Size([58976, 28, 28]), dtype: torch.uint8\n",
      "min: 0.0000, max: 255.0000\n",
      "\n",
      "mnist_tf_augm\n",
      "type: <class 'torch.Tensor'>\n",
      "size: torch.Size([58976, 28, 28]), dtype: torch.uint8\n",
      "min: 0.0000, max: 255.0000\n",
      "\n",
      "mnist_loader\n",
      "type: <class 'torch.Tensor'>\n",
      "size: torch.Size([58976, 28, 28]), dtype: torch.float32\n",
      "min: -0.8510, max: 3.2355\n",
      "median: -0.3962\n",
      "mean: 0.0089, std: 1.0136\n",
      "\n",
      "og_cinn_dataset\n",
      "type: <class 'torch.Tensor'>\n",
      "size: torch.Size([58976, 28, 28]), dtype: torch.uint8\n",
      "min: 0.0000, max: 255.0000\n",
      "\n",
      "og_cinn_loader\n",
      "type: <class 'torch.Tensor'>\n",
      "size: torch.Size([58976, 28, 28]), dtype: torch.float32\n",
      "min: -0.8510, max: 3.2355\n",
      "median: -0.3962\n",
      "mean: 0.0089, std: 1.0136\n",
      "\n"
     ]
    }
   ],
   "source": [
    "# raw MNIST\n",
    "data_directory = path.package_directory + \"/data\"\n",
    "torch.manual_seed(random_seed)\n",
    "\n",
    "mnist = datasets.MNIST(data_directory, train=True, download=True, transform=transforms.Compose([transforms.ToTensor(), lambda x: (x - 0.128) / 0.305]))\n",
    "mini_test(mnist.data, \"mnist_tf_norm\")\n",
    "\n",
    "val_x, val_l = zip(*list(mnist[i] for i in range(1024)))\n",
    "val_x = torch.stack(val_x, 0).to(device)\n",
    "val_l = torch.LongTensor(val_l).to(device)\n",
    "og_val = CinnMnist(val_x, val_l)\n",
    "mini_test(og_val.data, \"og_val\")\n",
    "\n",
    "mnist.data = mnist.data[1024:]\n",
    "mnist.targets = mnist.targets[1024:]\n",
    "mini_test(mnist.data, \"mnist_wo_val\")\n",
    "\n",
    "mnist.transform = transforms.Compose([mnist.transform, lambda x: x + 0.08 * torch.randn_like(x)])\n",
    "mini_test(mnist.data, \"mnist_tf_augm\")\n",
    "\n",
    "\n",
    "loader = DataLoader(mnist, batch_size=len(mnist.targets), shuffle=True)\n",
    "images, labels = next(iter(loader))\n",
    "images = images.squeeze(1)   # remove the batch dimension\n",
    "\n",
    "mnist_data = CinnMnist(images, labels)\n",
    "mini_test(mnist_data.data, \"mnist_loader\")\n",
    "\n",
    "\n",
    "# original cINN MNIST - normalized and augmented\n",
    "torch.manual_seed(random_seed)\n",
    "mini_test(og_train.data, \"og_cinn_dataset\")\n",
    "loader = DataLoader(og_train, batch_size=len(og_train.targets), shuffle=True)\n",
    "images, labels = next(iter(loader))\n",
    "images = images.squeeze(1)   # remove the batch dimension\n",
    "og_data = CinnMnist(images, labels)\n",
    "mini_test(og_data.data, \"og_cinn_loader\")"
   ]
  },
  {
   "cell_type": "code",
   "execution_count": 8,
   "metadata": {},
   "outputs": [],
   "source": [
    "# Rotated MNIST - one domain (0° like MNIST)\n",
    "domains = [0]\n",
    "oned_data = RotatedMNIST(domains=domains, train=True, seed=random_seed, val_set_size=1000)\n",
    "\n",
    "\n",
    "# Rotated MNIST - multiple domains, normalized\n",
    "domains = [-23, 0, 23, 45, 90, 180]\n",
    "norm_data = RotatedMNIST(domains=domains, train=True, seed=random_seed, val_set_size=1000, normalize=True)\n",
    "\n",
    "\n",
    "# Rotated MNIST - one domain, normalized and augmented\n",
    "domains = [0]\n",
    "augm_data = RotatedMNIST(domains=domains, train=True, seed=random_seed, val_set_size=1000, normalize=True, add_noise=True)\n",
    "\n",
    "\n",
    "# Rotated MNIST - one domain, lazy augmentation\n",
    "domains = [0]\n",
    "laug_data = RotatedMNIST(domains=domains, train=True, seed=random_seed, val_set_size=1000, normalize=True, add_noise=False)\n",
    "laug_data.transform = transforms.Lambda(lambda data: data + laug_data.noise_std * torch.randn_like(data))   # Add new noise to each new batch \n"
   ]
  },
  {
   "attachments": {},
   "cell_type": "markdown",
   "metadata": {},
   "source": [
    "## Tests and comparisons"
   ]
  },
  {
   "attachments": {},
   "cell_type": "markdown",
   "metadata": {},
   "source": [
    "### Dataset comparisons"
   ]
  },
  {
   "cell_type": "code",
   "execution_count": 42,
   "metadata": {},
   "outputs": [],
   "source": [
    "# Definitions\n",
    "\n",
    "def run_data_test(data: np.ndarray, name=\"\"):\n",
    "    print(f\"\\n{name}\")\n",
    "    print(f\"min: {data.min():.4f}, median: {np.median(data):.4f}, max: {data.max():.4f}\")\n",
    "    print(f\"mean: {data.mean():.4f}, std: {data.std():.4f}\")\n",
    "    \n",
    "    fraction_above_one = np.count_nonzero(data > 1) / len(data.flatten())\n",
    "    fraction_below_zero = np.count_nonzero(data < 0) / len(data.flatten())\n",
    "    fraction_in_range = 1 - fraction_above_one - fraction_below_zero\n",
    "    percent = lambda x: f\"{100*x:.2f} %\"\n",
    "    print(f\"x<0:{percent(fraction_below_zero)}, 0<=x<=1: {percent(fraction_in_range)}, x>1:{percent(fraction_above_one)}\")\n",
    "\n",
    "\n",
    "    hist_range = (-3, 3)\n",
    "    flat_data = data.flatten()\n",
    "    clipped_data = np.clip(flat_data, *hist_range)\n",
    "    plt.figure(figsize=(6, 3))\n",
    "    plt.hist(clipped_data, bins=1000, range=hist_range, density=True)\n",
    "    plt.yscale('log')\n",
    "    plt.ylim(10**-2, 2*10**1)\n",
    "    plt.show()"
   ]
  },
  {
   "cell_type": "code",
   "execution_count": 31,
   "metadata": {},
   "outputs": [],
   "source": [
    "# Rotated MNIST - one domain, lazy augmentation\n",
    "domains = [0]\n",
    "noise_augmentation = lambda data: data + 0.08 * torch.randn_like(data)\n",
    "laug_data = RotatedMNIST(domains=domains, train=True, seed=random_seed, val_set_size=1000, normalize=True, add_noise=False, transform = transforms.Lambda(noise_augmentation))"
   ]
  },
  {
   "cell_type": "code",
   "execution_count": 19,
   "metadata": {},
   "outputs": [
    {
     "name": "stdout",
     "output_type": "stream",
     "text": [
      "<class 'tuple'>\n",
      "torch.Size([28, 28]) torch.Size([12])\n",
      "\n",
      "<class 'tuple'>\n",
      "torch.Size([9, 28, 28]) torch.Size([9, 12])\n",
      "\n",
      "<class 'tuple'>\n",
      "torch.Size([59000, 28, 28]) torch.Size([59000, 12])\n",
      "\n"
     ]
    }
   ],
   "source": [
    "sample = laug_data[1]\n",
    "print(type(sample))\n",
    "print(sample[0].shape, sample[1].shape)\n",
    "print(\"\")\n",
    "\n",
    "sample = laug_data[1:10]\n",
    "print(type(sample))\n",
    "print(sample[0].shape, sample[1].shape)\n",
    "print(\"\")\n",
    "\n",
    "sample = laug_data[:]\n",
    "print(type(sample))\n",
    "print(sample[0].shape, sample[1].shape)\n",
    "print(\"\")"
   ]
  },
  {
   "cell_type": "code",
   "execution_count": 32,
   "metadata": {},
   "outputs": [
    {
     "data": {
      "text/plain": [
       "tensor([0.9675, 1.1561, 0.9531, 0.9996, 1.0418, 1.0479, 0.9692, 1.1183, 0.9305,\n",
       "        0.8964])"
      ]
     },
     "execution_count": 32,
     "metadata": {},
     "output_type": "execute_result"
    }
   ],
   "source": [
    "laug_data.transform(torch.ones(10))"
   ]
  },
  {
   "attachments": {},
   "cell_type": "markdown",
   "metadata": {},
   "source": [
    "#### Comparing the dataset pixel value distributions"
   ]
  },
  {
   "cell_type": "code",
   "execution_count": 21,
   "metadata": {},
   "outputs": [],
   "source": [
    "# Loading the dataset images\n",
    "mnist_train_data = mnist_data.data.cpu().numpy()\n",
    "og_train_data = og_data.data.cpu().numpy()\n",
    "oned_train_data = oned_data.data.cpu().numpy()\n",
    "norm_train_data = norm_data.data.cpu().numpy()\n",
    "augm_train_data = augm_data.data.cpu().numpy()\n",
    "laug_train_data = laug_data[:][0].cpu().numpy()  # samples all images and applies tranforms"
   ]
  },
  {
   "cell_type": "code",
   "execution_count": 46,
   "metadata": {},
   "outputs": [
    {
     "name": "stdout",
     "output_type": "stream",
     "text": [
      "\n",
      "Original cINN train data\n",
      "min: -0.8510, median: -0.3962, max: 3.2355\n",
      "mean: 0.0089, std: 1.0136\n",
      "x<0:82.95 %, 0<=x<=1: 3.20 %, x>1:13.85 %\n"
     ]
    },
    {
     "data": {
      "image/png": "[encoded data removed]",
      "text/plain": [
       "<Figure size 600x300 with 1 Axes>"
      ]
     },
     "metadata": {},
     "output_type": "display_data"
    },
    {
     "name": "stdout",
     "output_type": "stream",
     "text": [
      "\n",
      "Lazy augmented train data\n",
      "min: -0.8742, median: -0.4006, max: 3.2103\n",
      "mean: -0.0002, std: 1.0028\n",
      "x<0:82.99 %, 0<=x<=1: 3.22 %, x>1:13.79 %\n"
     ]
    },
    {
     "data": {
      "image/png": "[encoded data removed]",
      "text/plain": [
       "<Figure size 600x300 with 1 Axes>"
      ]
     },
     "metadata": {},
     "output_type": "display_data"
    },
    {
     "name": "stdout",
     "output_type": "stream",
     "text": [
      "\n",
      "Augmented train data\n",
      "min: -0.8554, median: -0.4006, max: 3.2194\n",
      "mean: -0.0002, std: 1.0028\n",
      "x<0:83.00 %, 0<=x<=1: 3.22 %, x>1:13.79 %\n"
     ]
    },
    {
     "data": {
      "image/png": "[encoded data removed]",
      "text/plain": [
       "<Figure size 600x300 with 1 Axes>"
      ]
     },
     "metadata": {},
     "output_type": "display_data"
    },
    {
     "name": "stdout",
     "output_type": "stream",
     "text": [
      "\n",
      "Normalized train data\n",
      "min: -0.4241, median: -0.4241, max: 2.8206\n",
      "mean: 0.0001, std: 1.0000\n",
      "x<0:83.01 %, 0<=x<=1: 3.17 %, x>1:13.82 %\n"
     ]
    },
    {
     "data": {
      "image/png": "[encoded data removed]",
      "text/plain": [
       "<Figure size 600x300 with 1 Axes>"
      ]
     },
     "metadata": {},
     "output_type": "display_data"
    },
    {
     "name": "stdout",
     "output_type": "stream",
     "text": [
      "\n",
      "One Domain train data\n",
      "min: 0.0000, median: 0.0000, max: 1.0000\n",
      "mean: 0.1306, std: 0.3081\n",
      "x<0:0.00 %, 0<=x<=1: 100.00 %, x>1:0.00 %\n"
     ]
    },
    {
     "data": {
      "image/png": "[encoded data removed]",
      "text/plain": [
       "<Figure size 600x300 with 1 Axes>"
      ]
     },
     "metadata": {},
     "output_type": "display_data"
    }
   ],
   "source": [
    "#run_data_test(mnist_train_data, \"raw MNIST train data\")\n",
    "run_data_test(og_train_data, \"Original cINN train data\")\n",
    "run_data_test(laug_train_data, \"Lazy augmented train data\")\n",
    "run_data_test(augm_train_data, \"Augmented train data\")\n",
    "run_data_test(norm_train_data, \"Normalized train data\")\n",
    "run_data_test(oned_train_data, \"One Domain train data\")"
   ]
  },
  {
   "attachments": {},
   "cell_type": "markdown",
   "metadata": {},
   "source": [
    "### Model comparisons"
   ]
  },
  {
   "attachments": {},
   "cell_type": "markdown",
   "metadata": {},
   "source": [
    "#### Sampling images"
   ]
  },
  {
   "cell_type": "code",
   "execution_count": 38,
   "metadata": {},
   "outputs": [],
   "source": [
    "# Parameters\n",
    "\n",
    "sample_shape = (10000,)\n",
    "latent_tensor = torch.randn((*sample_shape, 28*28))\n",
    "labels = torch.randint(0, 10, sample_shape)"
   ]
  },
  {
   "cell_type": "code",
   "execution_count": 39,
   "metadata": {},
   "outputs": [],
   "source": [
    "# Definitions\n",
    "\n",
    "def rotated_conditions(domains):\n",
    "    domain_labels = torch.randint(0, len(domains), sample_shape)\n",
    "    conditions = torch.zeros((*sample_shape, 12))\n",
    "    conditions[..., :2] = RotatedMNIST.deg2cossin(domain_labels)\n",
    "    conditions[..., 2:] = torch.eye(10)[labels]\n",
    "\n",
    "    return conditions\n",
    "\n",
    "\n",
    "def sample_images(model:Rotated_cINN, dataset:RotatedMNIST) -> np.ndarray:\n",
    "    conditions = rotated_conditions(dataset.domains)\n",
    "    model_images = model.reverse(latent_tensor, conditions)[0].cpu().numpy()\n",
    "    images = dataset.unnormalize(model_images)\n",
    "    \n",
    "    return images"
   ]
  },
  {
   "cell_type": "code",
   "execution_count": 40,
   "metadata": {},
   "outputs": [],
   "source": [
    "# Sample images for each model\n",
    "\n",
    "with torch.no_grad():\n",
    "    og_images = og_cinn.reverse_sample(latent_tensor, labels)[0].cpu().numpy()\n",
    "    og_images = og_unnormalize(og_images)\n",
    "    oned_images = sample_images(oned_cinn, oned_data)\n",
    "    norm_images = sample_images(norm_cinn, norm_data)\n",
    "    aug_one_images = sample_images(aug_one_cinn, augm_data)\n",
    "    augm_images = sample_images(augm_cinn, augm_data)\n",
    "    laug_images = sample_images(laug_cinn, laug_data)"
   ]
  },
  {
   "cell_type": "code",
   "execution_count": 45,
   "metadata": {},
   "outputs": [
    {
     "name": "stdout",
     "output_type": "stream",
     "text": [
      "\n",
      "Original cINN generated images\n",
      "min: -296.4338, median: 0.0083, max: 810.3589\n",
      "mean: 0.1229, std: 0.6862\n",
      "x<0:40.29 %, 0<=x<=1: 56.89 %, x>1:2.82 %\n"
     ]
    },
    {
     "data": {
      "image/png": "[encoded data removed]",
      "text/plain": [
       "<Figure size 600x300 with 1 Axes>"
      ]
     },
     "metadata": {},
     "output_type": "display_data"
    },
    {
     "name": "stdout",
     "output_type": "stream",
     "text": [
      "\n",
      "Lazy Augmentation generated images\n",
      "min: -647.3163, median: 0.0083, max: 810.1776\n",
      "mean: 0.1217, std: 1.0005\n",
      "x<0:40.21 %, 0<=x<=1: 56.98 %, x>1:2.81 %\n"
     ]
    },
    {
     "data": {
      "image/png": "[encoded data removed]",
      "text/plain": [
       "<Figure size 600x300 with 1 Axes>"
      ]
     },
     "metadata": {},
     "output_type": "display_data"
    },
    {
     "name": "stdout",
     "output_type": "stream",
     "text": [
      "\n",
      "Augmented generated images\n",
      "min: -1071.9852, median: 0.0051, max: 4992.8125\n",
      "mean: 0.0751, std: 4.0443\n",
      "x<0:44.46 %, 0<=x<=1: 52.90 %, x>1:2.64 %\n"
     ]
    },
    {
     "data": {
      "image/png": "[encoded data removed]",
      "text/plain": [
       "<Figure size 600x300 with 1 Axes>"
      ]
     },
     "metadata": {},
     "output_type": "display_data"
    },
    {
     "name": "stdout",
     "output_type": "stream",
     "text": [
      "\n",
      "Augmented (one domain) generated images\n",
      "min: -10147.6816, median: 0.0035, max: 166817.2031\n",
      "mean: 0.0368, std: 86.9777\n",
      "x<0:46.01 %, 0<=x<=1: 50.87 %, x>1:3.12 %\n"
     ]
    },
    {
     "data": {
      "image/png": "[encoded data removed]",
      "text/plain": [
       "<Figure size 600x300 with 1 Axes>"
      ]
     },
     "metadata": {},
     "output_type": "display_data"
    },
    {
     "name": "stdout",
     "output_type": "stream",
     "text": [
      "\n",
      "Normalized generated images\n",
      "min: -1180.5276, median: 0.1308, max: 27953.4238\n",
      "mean: 0.1999, std: 14.9271\n",
      "x<0:0.44 %, 0<=x<=1: 99.18 %, x>1:0.39 %\n"
     ]
    },
    {
     "data": {
      "image/png": "[encoded data removed]",
      "text/plain": [
       "<Figure size 600x300 with 1 Axes>"
      ]
     },
     "metadata": {},
     "output_type": "display_data"
    },
    {
     "name": "stdout",
     "output_type": "stream",
     "text": [
      "\n",
      "One Domain generated images\n",
      "min: -15686.7100, median: 0.0002, max: 1466148.1250\n",
      "mean: 0.8969, std: 545.0396\n",
      "x<0:34.41 %, 0<=x<=1: 64.22 %, x>1:1.37 %\n"
     ]
    },
    {
     "data": {
      "image/png": "[encoded data removed]",
      "text/plain": [
       "<Figure size 600x300 with 1 Axes>"
      ]
     },
     "metadata": {},
     "output_type": "display_data"
    }
   ],
   "source": [
    "run_data_test(og_images, \"Original cINN generated images\")\n",
    "run_data_test(laug_images, \"Lazy Augmentation generated images\")\n",
    "run_data_test(aug_one_images, \"Augmented (one domain) generated images\")\n",
    "run_data_test(augm_images, \"Augmented generated images\")\n",
    "run_data_test(norm_images, \"Normalized generated images\")\n",
    "run_data_test(oned_images, \"One Domain generated images\")"
   ]
  }
 ],
 "metadata": {
  "kernelspec": {
   "display_name": "rot-cinn",
   "language": "python",
   "name": "python3"
  },
  "language_info": {
   "codemirror_mode": {
    "name": "ipython",
    "version": 3
   },
   "file_extension": ".py",
   "mimetype": "text/x-python",
   "name": "python",
   "nbconvert_exporter": "python",
   "pygments_lexer": "ipython3",
   "version": "3.10.10"
  },
  "orig_nbformat": 4
 },
 "nbformat": 4,
 "nbformat_minor": 2
}
