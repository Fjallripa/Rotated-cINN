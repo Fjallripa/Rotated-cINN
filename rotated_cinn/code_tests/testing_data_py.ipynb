{
 "cells": [
  {
   "cell_type": "code",
   "execution_count": 1,
   "metadata": {},
   "outputs": [],
   "source": [
    "import os\n",
    "import numpy as np\n",
    "import torch\n",
    "from torch.utils.data import Dataset, DataLoader\n",
    "from torchvision import datasets, transforms\n",
    "import matplotlib.pyplot as plt"
   ]
  },
  {
   "cell_type": "code",
   "execution_count": 2,
   "metadata": {},
   "outputs": [],
   "source": [
    "dev_mode = True   # A toggle that is only used for this notebook.\n",
    "    # If copying code from notebook to python file, remove all the 'if dev_mode' blocks.\n",
    "    # Any code that's only for testing purposes should be inside such a block.\n",
    "\n",
    "\n",
    "class DomainMNIST(Dataset):\n",
    "    '''\n",
    "    \n",
    "    '''\n",
    "\n",
    "    def __init__(self, domains: list[int]) -> None:\n",
    "        super().__init__()\n",
    "\n",
    "        # Set attributes\n",
    "        self.domains = torch.tensor(domains) \\\n",
    "                        if type(domains) != torch.Tensor else \\\n",
    "                        domains.detach().clone()\n",
    "        self.classes = torch.arange(10)\n",
    "\n",
    "        ## Predefine attributes for subclasses\n",
    "        self.data = None\n",
    "        self.targets = None\n",
    "        self.domain_labels = None\n",
    "        self.class_labels = None\n",
    "\n",
    "\n",
    "    def __len__(self):\n",
    "        return len(self.targets)\n",
    "\n",
    "\n",
    "    def __getitem__(self, index):\n",
    "        image = self.data[index]\n",
    "        label = self.targets[index]\n",
    "        angle = self.domain_labels[index]\n",
    "        digit = self.class_labels[index]\n",
    "        \n",
    "        return image, label, angle, digit\n",
    "\n",
    "\n",
    "\n",
    "class RotatedMNIST(DomainMNIST):\n",
    "    '''\n",
    "    \n",
    "    '''\n",
    "\n",
    "    def __init__(self, domains: list[int], train: bool, val_set_size: int=0, seed: int=None) -> None:\n",
    "        super().__init__(domains)\n",
    "\n",
    "        # Set attributes\n",
    "        self.train = train\n",
    "        self.val_set_size = val_set_size\n",
    "        self.val = None\n",
    "        #self.root = os.path.dirname(os.path.realpath(__file__))\n",
    "        if dev_mode:\n",
    "            self.root = os.path.abspath(\".\")  # this works for .ipynb files\n",
    "        if seed != None:\n",
    "            torch.manual_seed(seed)\n",
    "        \n",
    "        # Create dataset\n",
    "        mnist = datasets.MNIST(root=self.root, train=self.train, download=True, transform=transforms.ToTensor())\n",
    "        if dev_mode:\n",
    "            self.mnist = mnist\n",
    "        self._process_data(mnist)\n",
    "\n",
    "\n",
    "    def _process_data(self, dataset:Dataset) -> None:\n",
    "        # Shuffle and normalize the images. normalize: uint8 (0..255) -> float32 (0..1)\n",
    "        loader = DataLoader(dataset, batch_size=len(dataset.targets), shuffle=True)\n",
    "        images, class_labels = next(iter(loader))\n",
    "        images = images.squeeze(1)   # remove the batch dimension\n",
    "        if dev_mode:\n",
    "            self.images = images\n",
    "            self.class_labels = class_labels\n",
    "            #return images, class_labels\n",
    "\n",
    "        # Create domain indices\n",
    "        domain_count = len(self.domains)\n",
    "        domain_indices = torch.randint_like(class_labels, domain_count)\n",
    "        if dev_mode:\n",
    "            self.domain_count = domain_count\n",
    "            self.domain_indices = domain_indices\n",
    "\n",
    "        # Create the new domain & class label for the cINN\n",
    "        domains_sincos = self._deg2sincos(self.domains)\n",
    "        classes_onehot = torch.eye(10)\n",
    "        sincos_labels = domains_sincos[domain_indices]\n",
    "        onehot_labels = classes_onehot[class_labels]\n",
    "        cinn_labels = torch.cat((sincos_labels, onehot_labels), 1)\n",
    "\n",
    "        # Rotate the images according to their domain\n",
    "        images_rotated = torch.zeros_like(images)\n",
    "        rotations = self.domains[domain_indices]\n",
    "        for i in range(len(images_rotated)):\n",
    "            images_rotated[i] = self._rotate(images[i], int(rotations[i]))\n",
    "        if dev_mode:\n",
    "            self.domains_sincos = domains_sincos\n",
    "            self.cinn_labels = cinn_labels\n",
    "            self.domain_labels = self.domains[domain_indices]  # rotations\n",
    "            \n",
    "            #return images, class_labels\n",
    "        \n",
    "        \n",
    "        # Return results\n",
    "        if self.train and self.val_set_size > 0:\n",
    "            # Split off a validation set\n",
    "            cutoff = len(images_rotated) - self.val_set_size   # size of remaining training set\n",
    "            cut = lambda tensor: self._split(tensor, at=cutoff)\n",
    "            \n",
    "            # Create train and validation set\n",
    "            self.val = DomainMNIST(self.domains)   # create instance for validation set\n",
    "            self.data,          self.val.data          = cut(images_rotated)\n",
    "            self.targets,       self.val.targets       = cut(cinn_labels)\n",
    "            self.domain_labels, self.val.domain_labels = cut(rotations)\n",
    "            self.class_labels,  self.val.class_labels  = cut(class_labels)\n",
    "        else:\n",
    "            # Save train/test set\n",
    "            self.data          = images_rotated\n",
    "            self.targets       = cinn_labels\n",
    "            self.domain_labels = rotations\n",
    "            self.class_labels  = class_labels\n",
    "      \n",
    "\n",
    "    @staticmethod\n",
    "    def _deg2sincos(degrees:torch.Tensor) -> torch.Tensor:\n",
    "        return torch.tensor(\n",
    "            [[np.cos(angle), np.sin(angle)]  for angle in np.deg2rad(degrees)], \n",
    "            dtype = torch.float32\n",
    "        )\n",
    "    \n",
    "\n",
    "    @staticmethod\n",
    "    def _rotate(image:torch.Tensor, degrees:int) -> torch.Tensor:\n",
    "        to_pil = transforms.ToPILImage()\n",
    "        to_tensor = transforms.ToTensor()\n",
    "        \n",
    "        return to_tensor(transforms.functional.rotate(to_pil(image), degrees))\n",
    "    \n",
    "\n",
    "    @staticmethod\n",
    "    def _split(tensor:torch.Tensor, at:int) -> tuple[torch.Tensor]:\n",
    "        len_a = at\n",
    "        len_b = len(tensor) - len_a\n",
    "        tensor_a, tensor_b = tensor.split([len_a, len_b])\n",
    "        tensor_a = tensor_a.detach().clone()\n",
    "        tensor_b = tensor_b.detach().clone()\n",
    "        \n",
    "        return tensor_a, tensor_b\n",
    "        "
   ]
  },
  {
   "attachments": {},
   "cell_type": "markdown",
   "metadata": {},
   "source": [
    "### Testing validation set creation"
   ]
  },
  {
   "cell_type": "code",
   "execution_count": 3,
   "metadata": {},
   "outputs": [],
   "source": [
    "# checking if any errors occur during validation set creation\n",
    "rot = RotatedMNIST([0, 45, 90, 180, 270, 135], train=True, seed=1, val_set_size=1000)"
   ]
  },
  {
   "cell_type": "code",
   "execution_count": 4,
   "metadata": {},
   "outputs": [
    {
     "name": "stdout",
     "output_type": "stream",
     "text": [
      "<__main__.DomainMNIST object at 0x7fa314dd3f40>\n",
      "59000 1000\n",
      "torch.Size([59000, 28, 28]) torch.Size([1000, 28, 28])\n",
      "torch.Size([59000, 12]) torch.Size([1000, 12])\n",
      "torch.Size([59000]) torch.Size([1000])\n",
      "torch.Size([59000]) torch.Size([1000])\n"
     ]
    }
   ],
   "source": [
    "# checking if the validation set was split off as intended\n",
    "print(rot.val)\n",
    "print(len(rot), len(rot.val))\n",
    "print(rot.data.shape, rot.val.data.shape)\n",
    "print(rot.targets.shape, rot.val.targets.shape)\n",
    "print(rot.domain_labels.shape, rot.val.domain_labels.shape)\n",
    "print(rot.class_labels.shape, rot.val.class_labels.shape)\n"
   ]
  },
  {
   "cell_type": "code",
   "execution_count": 5,
   "metadata": {},
   "outputs": [
    {
     "name": "stdout",
     "output_type": "stream",
     "text": [
      "torch.Size([28, 28])  torch.Size([12])  torch.Size([])  torch.Size([])  \n",
      "torch.Size([28, 28])  torch.Size([12])  torch.Size([])  torch.Size([])  "
     ]
    }
   ],
   "source": [
    "# checking if __len__() and __getitem__() behave as expected\n",
    "for item in rot[len(rot) - 1]:\n",
    "    print(item.shape, end='  ')\n",
    "print(\"\")\n",
    "for item in rot.val[len(rot.val) - 1]:\n",
    "    print(item.shape, end='  ')"
   ]
  },
  {
   "cell_type": "code",
   "execution_count": 6,
   "metadata": {},
   "outputs": [
    {
     "name": "stdout",
     "output_type": "stream",
     "text": [
      "None\n",
      "60000\n"
     ]
    }
   ],
   "source": [
    "# checking if the training set without validation set is still created.\n",
    "rot = RotatedMNIST([0, 45, 90, 180, 270, 135], train=True, seed=1)\n",
    "\n",
    "print(rot.val)\n",
    "print(len(rot))"
   ]
  },
  {
   "cell_type": "code",
   "execution_count": 7,
   "metadata": {},
   "outputs": [],
   "source": [
    "# testing if torches random_split() for datasets would be a viable alternative\n",
    "from torch.utils.data import random_split\n",
    "a, b = random_split(rot, [59000, 1000])"
   ]
  },
  {
   "cell_type": "code",
   "execution_count": 8,
   "metadata": {},
   "outputs": [
    {
     "name": "stdout",
     "output_type": "stream",
     "text": [
      "<class 'torch.utils.data.dataset.Subset'>\n",
      "torch.Size([60000, 28, 28])\n",
      "(tensor([-1.8370e-16, -1.0000e+00,  0.0000e+00,  0.0000e+00,  0.0000e+00,\n",
      "         0.0000e+00,  0.0000e+00,  1.0000e+00,  0.0000e+00,  0.0000e+00,\n",
      "         0.0000e+00,  0.0000e+00]), tensor(270), tensor(5))\n"
     ]
    }
   ],
   "source": [
    "# Result: there is no real split into train and val datasets\n",
    "# It only works if used via a Dataloader\n",
    "# Currently, I don't want that restriction, so I keep my custom split.\n",
    "print(type(a))\n",
    "print(a.dataset.data.shape)\n",
    "print(a.dataset[59900][1:])"
   ]
  },
  {
   "attachments": {},
   "cell_type": "markdown",
   "metadata": {},
   "source": [
    "### Testing _process_data() -> domain distribution"
   ]
  },
  {
   "cell_type": "code",
   "execution_count": 9,
   "metadata": {},
   "outputs": [
    {
     "name": "stdout",
     "output_type": "stream",
     "text": [
      "tensor([  0,  45,  90, 135, 180, 270])\n",
      "tensor([1608, 1694, 1720, 1670, 1630, 1678])\n",
      "tensor(10000)\n",
      "\n",
      "tensor([0, 1, 2, 3, 4, 5, 6, 7, 8, 9])\n",
      "tensor([ 980, 1135, 1032, 1010,  982,  892,  958, 1028,  974, 1009])\n",
      "tensor(10000)\n"
     ]
    },
    {
     "data": {
      "image/png": "[encoded data removed]",
      "text/plain": [
       "<Figure size 1200x400 with 2 Axes>"
      ]
     },
     "metadata": {},
     "output_type": "display_data"
    }
   ],
   "source": [
    "rot = RotatedMNIST([0, 45, 90, 180, 270, 135], train=False, seed=1)\n",
    "\n",
    "domains, d_distribution = rot.domain_labels.unique(return_counts=True)\n",
    "print(domains)\n",
    "print(d_distribution)\n",
    "print(sum(d_distribution))\n",
    "print(\"\")\n",
    "classes, c_distribution = rot.class_labels.unique(return_counts=True)\n",
    "print(classes)\n",
    "print(c_distribution)\n",
    "print(sum(c_distribution))\n",
    "\n",
    "plt.figure(figsize=(12, 4))\n",
    "plt.subplot(1, 2, 1)\n",
    "plt.title(\"Domains\")\n",
    "plt.bar([str(int(d)) for d in domains], d_distribution)\n",
    "\n",
    "plt.subplot(1, 2, 2)\n",
    "plt.title(\"Classes\")\n",
    "plt.bar(range(len(classes)), c_distribution)\n",
    "plt.xticks(classes)\n",
    "\n",
    "plt.show()"
   ]
  },
  {
   "attachments": {},
   "cell_type": "markdown",
   "metadata": {},
   "source": [
    "### Testing _process_data() -> image rotation"
   ]
  },
  {
   "cell_type": "code",
   "execution_count": 10,
   "metadata": {},
   "outputs": [],
   "source": [
    "def show_image_row(images, titles=None):\n",
    "    \"\"\" \n",
    "    code adapted from https://stackoverflow.com/questions/36006136/how-to-display-images-in-a-row-with-ipython-display \n",
    "    \"\"\"\n",
    "    fig = plt.figure(figsize=(1*len(images), 1))\n",
    "    for i, image in enumerate(images):\n",
    "        a = fig.add_subplot(1, len(images), i + 1)\n",
    "        if titles != None:\n",
    "            plt.title(titles[i], )\n",
    "        plt.imshow(image, cmap='gray', vmin=0, vmax=1)\n",
    "        plt.axis('off')\n",
    "    plt.show()"
   ]
  },
  {
   "cell_type": "code",
   "execution_count": 11,
   "metadata": {},
   "outputs": [
    {
     "name": "stdout",
     "output_type": "stream",
     "text": [
      "<class 'torch.Tensor'>\n",
      "torch.Size([10000, 28, 28])\n",
      "torch.float32\n",
      "\n",
      "tensor([ 45,  45, 135, 135, 135,   0,  90, 180, 270, 135])\n",
      "tensor([3, 9, 4, 9, 9, 0, 8, 3, 1, 2])\n"
     ]
    },
    {
     "data": {
      "image/png": "[encoded data removed]",
      "text/plain": [
       "<Figure size 1000x100 with 10 Axes>"
      ]
     },
     "metadata": {},
     "output_type": "display_data"
    }
   ],
   "source": [
    "# Testing if the images actually get rotated as expected\n",
    "rot = RotatedMNIST([0, 45, 90, 180, 270, 135], train=False, seed=1)\n",
    "\n",
    "print(type(rot.data))\n",
    "print(rot.data.shape)\n",
    "print(rot.data.dtype)\n",
    "print(\"\")\n",
    "\n",
    "amount = 10\n",
    "print(rot.domain_labels[:amount])\n",
    "print(rot.class_labels[:amount])\n",
    "titles = [f\"'{rot.class_labels[i]}'\\n {rot.domain_labels[i]}°\"  for i in range(amount)]\n",
    "show_image_row(rot.data[:amount], titles)"
   ]
  },
  {
   "attachments": {},
   "cell_type": "markdown",
   "metadata": {},
   "source": [
    "### Testing _process_data() -> cINN labels"
   ]
  },
  {
   "cell_type": "code",
   "execution_count": 12,
   "metadata": {},
   "outputs": [
    {
     "name": "stdout",
     "output_type": "stream",
     "text": [
      "tensor([-10,  15,  30, 180, 720])\n",
      "tensor([[ 0.9848,  0.9659,  0.8660, -1.0000,  1.0000],\n",
      "        [-0.1736,  0.2588,  0.5000,  0.0000, -0.0000]])\n",
      "\n",
      "tensor([180, 180,  15,  15, 720,  30, 180, 720])\n",
      "tensor([[-1.0000, -1.0000,  0.9659,  0.9659,  1.0000,  0.8660, -1.0000,  1.0000],\n",
      "        [ 0.0000,  0.0000,  0.2588,  0.2588, -0.0000,  0.5000,  0.0000, -0.0000]])\n",
      "\n",
      "tensor([3, 9, 4, 9, 9, 0, 8, 3])\n",
      "tensor([[0., 0., 0., 0., 0., 1., 0., 0.],\n",
      "        [0., 0., 0., 0., 0., 0., 0., 0.],\n",
      "        [0., 0., 0., 0., 0., 0., 0., 0.],\n",
      "        [1., 0., 0., 0., 0., 0., 0., 1.],\n",
      "        [0., 0., 1., 0., 0., 0., 0., 0.],\n",
      "        [0., 0., 0., 0., 0., 0., 0., 0.],\n",
      "        [0., 0., 0., 0., 0., 0., 0., 0.],\n",
      "        [0., 0., 0., 0., 0., 0., 0., 0.],\n",
      "        [0., 0., 0., 0., 0., 0., 1., 0.],\n",
      "        [0., 1., 0., 1., 1., 0., 0., 0.]])\n",
      "\n",
      "tensor([[-1.0000, -1.0000,  0.9659,  0.9659,  1.0000,  0.8660, -1.0000,  1.0000],\n",
      "        [ 0.0000,  0.0000,  0.2588,  0.2588, -0.0000,  0.5000,  0.0000, -0.0000],\n",
      "        [ 0.0000,  0.0000,  0.0000,  0.0000,  0.0000,  1.0000,  0.0000,  0.0000],\n",
      "        [ 0.0000,  0.0000,  0.0000,  0.0000,  0.0000,  0.0000,  0.0000,  0.0000],\n",
      "        [ 0.0000,  0.0000,  0.0000,  0.0000,  0.0000,  0.0000,  0.0000,  0.0000],\n",
      "        [ 1.0000,  0.0000,  0.0000,  0.0000,  0.0000,  0.0000,  0.0000,  1.0000],\n",
      "        [ 0.0000,  0.0000,  1.0000,  0.0000,  0.0000,  0.0000,  0.0000,  0.0000],\n",
      "        [ 0.0000,  0.0000,  0.0000,  0.0000,  0.0000,  0.0000,  0.0000,  0.0000],\n",
      "        [ 0.0000,  0.0000,  0.0000,  0.0000,  0.0000,  0.0000,  0.0000,  0.0000],\n",
      "        [ 0.0000,  0.0000,  0.0000,  0.0000,  0.0000,  0.0000,  0.0000,  0.0000],\n",
      "        [ 0.0000,  0.0000,  0.0000,  0.0000,  0.0000,  0.0000,  1.0000,  0.0000],\n",
      "        [ 0.0000,  1.0000,  0.0000,  1.0000,  1.0000,  0.0000,  0.0000,  0.0000]])\n"
     ]
    }
   ],
   "source": [
    "# Test if creating sincos and onehot codes and combining them to cinn labels works correctly\n",
    "rot = RotatedMNIST([-10, 15, 30, 180, 720], train=False, seed=1)\n",
    "\n",
    "print(rot.domains)\n",
    "print(rot.domains_sincos.T.round(decimals=4))\n",
    "print(\"\")\n",
    "\n",
    "print(rot.domain_labels[:8])\n",
    "print(rot.cinn_labels[:8, :2].T.round(decimals=4))\n",
    "print(\"\")\n",
    "\n",
    "print(rot.class_labels[:8])\n",
    "print(rot.cinn_labels[:8, 2:].T.round(decimals=4))\n",
    "print(\"\")\n",
    "\n",
    "print(rot.cinn_labels[:8].T.round(decimals=4))"
   ]
  },
  {
   "attachments": {},
   "cell_type": "markdown",
   "metadata": {},
   "source": [
    "### Testing _process_data() -> domain indices"
   ]
  },
  {
   "cell_type": "code",
   "execution_count": 13,
   "metadata": {},
   "outputs": [
    {
     "name": "stdout",
     "output_type": "stream",
     "text": [
      "tensor([3, 4, 1, 3, 1, 3, 3, 4, 0, 1])\n",
      "\n",
      "tensor([2, 1, 2, 1, 1, 2, 3, 4, 1, 1])\n",
      "\n",
      "tensor([3, 3, 1, 1, 4, 2, 3, 4, 1, 3])\n",
      "\n",
      "tensor([3, 3, 1, 1, 4, 2, 3, 4, 1, 3])\n",
      "\n"
     ]
    }
   ],
   "source": [
    "# Test if seed still applies to domain_label sampling\n",
    "rot_sets = [\n",
    "    RotatedMNIST([-10, 15, 30, 180, 720], train=False),\n",
    "    RotatedMNIST([-10, 15, 30, 180, 720], train=False),\n",
    "    RotatedMNIST([-10, 15, 30, 180, 720], train=False, seed=1),\n",
    "    RotatedMNIST([-10, 15, 30, 180, 720], train=False, seed=1),\n",
    "]\n",
    "\n",
    "for rot in rot_sets:\n",
    "    print(rot.domain_indices[:10])\n",
    "    print(\"\")\n",
    "    "
   ]
  },
  {
   "cell_type": "code",
   "execution_count": 14,
   "metadata": {},
   "outputs": [
    {
     "name": "stdout",
     "output_type": "stream",
     "text": [
      "3\n",
      "torch.Size([10000])\n",
      "tensor([30, 15,  0, 30, 30,  0,  0, 15,  0, 30])\n",
      "\n",
      "1\n",
      "torch.Size([10000])\n",
      "tensor([0, 0, 0, 0, 0, 0, 0, 0, 0, 0])\n",
      "\n",
      "5\n",
      "torch.Size([10000])\n",
      "tensor([ 15,  15,  30, -10,  30, -10,  15,  15, 720, 180])\n",
      "\n"
     ]
    }
   ],
   "source": [
    "# Test if domain_count and domain_labels are produced correctly\n",
    "rot_sets = [\n",
    "    RotatedMNIST([0, 15, 30], train=False),\n",
    "    RotatedMNIST([0], train=False),\n",
    "    RotatedMNIST([-10, 15, 30, 180, 720], train=False),\n",
    "]\n",
    "\n",
    "for rot in rot_sets:\n",
    "    print(rot.domain_count)\n",
    "    print(rot.domain_labels.shape)\n",
    "    print(rot.domain_labels[:10])\n",
    "    print(\"\")"
   ]
  },
  {
   "attachments": {},
   "cell_type": "markdown",
   "metadata": {},
   "source": [
    "### Testing _process_data() -> dataloader"
   ]
  },
  {
   "cell_type": "code",
   "execution_count": 15,
   "metadata": {},
   "outputs": [
    {
     "name": "stdout",
     "output_type": "stream",
     "text": [
      "<class 'torch.Tensor'>\n",
      "torch.Size([60000, 28, 28])\n",
      "torch.float32\n",
      "tensor(0.) tensor(1.)\n",
      "\n",
      "<class 'torch.Tensor'>\n",
      "torch.Size([60000])\n",
      "torch.int64\n",
      "tensor(0) tensor(9)\n",
      "\n"
     ]
    }
   ],
   "source": [
    "# Test if the dataloader works for the train set too\n",
    "rot = RotatedMNIST([0, 15, 30], train=True)\n",
    "\n",
    "data = rot.images\n",
    "print(type(data))\n",
    "print(data.shape)\n",
    "print(data.dtype)\n",
    "print(data.min(), data.max())\n",
    "print(\"\")\n",
    "\n",
    "targets = rot.class_labels\n",
    "print(type(targets))\n",
    "print(targets.shape)\n",
    "print(targets.dtype)\n",
    "print(targets.min(), targets.max())\n",
    "print(\"\")"
   ]
  },
  {
   "cell_type": "code",
   "execution_count": 16,
   "metadata": {},
   "outputs": [
    {
     "name": "stdout",
     "output_type": "stream",
     "text": [
      "<class 'torch.Tensor'>\n",
      "torch.Size([10000, 28, 28])\n",
      "torch.float32\n",
      "tensor(0.) tensor(1.)\n",
      "\n",
      "<class 'torch.Tensor'>\n",
      "torch.Size([10000])\n",
      "torch.int64\n",
      "tensor(0) tensor(9)\n",
      "\n"
     ]
    }
   ],
   "source": [
    "# Test if the dataloader does what it should\n",
    "rot = RotatedMNIST([0, 15, 30], train=False)\n",
    "\n",
    "data = rot.images\n",
    "print(type(data))\n",
    "print(data.shape)\n",
    "print(data.dtype)\n",
    "print(data.min(), data.max())\n",
    "print(\"\")\n",
    "\n",
    "targets = rot.class_labels\n",
    "print(type(targets))\n",
    "print(targets.shape)\n",
    "print(targets.dtype)\n",
    "print(targets.min(), targets.max())\n",
    "print(\"\")"
   ]
  },
  {
   "cell_type": "code",
   "execution_count": 17,
   "metadata": {},
   "outputs": [
    {
     "name": "stdout",
     "output_type": "stream",
     "text": [
      "tensor([7, 2, 1, 0, 4, 1, 4, 9, 5, 9])\n",
      "tensor([7, 8, 6, 2, 7, 1, 1, 0, 9, 5])\n",
      "\n",
      "tensor([7, 2, 1, 0, 4, 1, 4, 9, 5, 9])\n",
      "tensor([2, 4, 4, 2, 4, 2, 6, 4, 4, 6])\n",
      "\n",
      "tensor([7, 2, 1, 0, 4, 1, 4, 9, 5, 9])\n",
      "tensor([3, 9, 4, 9, 9, 0, 8, 3, 1, 2])\n",
      "\n",
      "tensor([7, 2, 1, 0, 4, 1, 4, 9, 5, 9])\n",
      "tensor([3, 9, 4, 9, 9, 0, 8, 3, 1, 2])\n",
      "\n"
     ]
    }
   ],
   "source": [
    "# Test if manual seeds work\n",
    "rot_set = [\n",
    "    RotatedMNIST([0, 15, 30], train=False),\n",
    "    RotatedMNIST([0, 15, 30], train=False),\n",
    "    RotatedMNIST([0, 15, 30], train=False, seed=1),\n",
    "    RotatedMNIST([0, 15, 30], train=False, seed=1),\n",
    "]\n",
    "\n",
    "for rot in rot_set:\n",
    "    print(rot.mnist.targets[:10])\n",
    "    print(rot.class_labels[:10])\n",
    "    print(\"\")"
   ]
  },
  {
   "attachments": {},
   "cell_type": "markdown",
   "metadata": {},
   "source": [
    "### Testing init() -> mnist dateset"
   ]
  },
  {
   "cell_type": "code",
   "execution_count": 18,
   "metadata": {},
   "outputs": [
    {
     "name": "stdout",
     "output_type": "stream",
     "text": [
      "<class 'torch.Tensor'>\n",
      "torch.Size([10000, 28, 28])\n",
      "torch.uint8\n",
      "tensor(0, dtype=torch.uint8) tensor(255, dtype=torch.uint8)\n",
      "\n",
      "<class 'torch.Tensor'>\n",
      "torch.Size([10000])\n",
      "torch.int64\n",
      "tensor(0) tensor(9)\n",
      "\n"
     ]
    }
   ],
   "source": [
    "# Test if train=False loads the mnist test set\n",
    "rot = RotatedMNIST([0, 15, 30], train=False)\n",
    "\n",
    "data = rot.mnist.data\n",
    "print(type(data))\n",
    "print(data.shape)\n",
    "print(data.dtype)\n",
    "print(data.min(), data.max())\n",
    "print(\"\")\n",
    "\n",
    "targets = rot.mnist.targets\n",
    "print(type(targets))\n",
    "print(targets.shape)\n",
    "print(targets.dtype)\n",
    "print(targets.min(), targets.max())\n",
    "print(\"\")"
   ]
  },
  {
   "cell_type": "code",
   "execution_count": 19,
   "metadata": {},
   "outputs": [
    {
     "name": "stdout",
     "output_type": "stream",
     "text": [
      "['0 - zero', '1 - one', '2 - two', '3 - three', '4 - four', '5 - five', '6 - six', '7 - seven', '8 - eight', '9 - nine']\n",
      "\n",
      "<class 'torch.Tensor'>\n",
      "torch.Size([60000, 28, 28])\n",
      "torch.uint8\n",
      "tensor(0, dtype=torch.uint8) tensor(255, dtype=torch.uint8)\n",
      "\n",
      "<class 'torch.Tensor'>\n",
      "torch.Size([60000])\n",
      "torch.int64\n",
      "tensor(0) tensor(9)\n",
      "\n"
     ]
    }
   ],
   "source": [
    "# Test if the mnist dataset is loaded correctly\n",
    "rot = RotatedMNIST([0, 15, 30], train=True)\n",
    "\n",
    "print(rot.mnist.classes)\n",
    "print(\"\")\n",
    "\n",
    "data = rot.mnist.data\n",
    "print(type(data))\n",
    "print(data.shape)\n",
    "print(data.dtype)\n",
    "print(data.min(), data.max())\n",
    "print(\"\")\n",
    "\n",
    "targets = rot.mnist.targets\n",
    "print(type(targets))\n",
    "print(targets.shape)\n",
    "print(targets.dtype)\n",
    "print(targets.min(), targets.max())\n",
    "print(\"\")"
   ]
  },
  {
   "cell_type": "code",
   "execution_count": 20,
   "metadata": {},
   "outputs": [
    {
     "name": "stdout",
     "output_type": "stream",
     "text": [
      "tensor([ 0, 15, 30])\n",
      "tensor([0, 1, 2, 3, 4, 5, 6, 7, 8, 9])\n",
      "False\n",
      "0\n",
      "/home/birk/Documents/Programmieren/Bachelor Thesis/Own Code/Rotated-cINN/rotated_cinn/code_tests\n"
     ]
    }
   ],
   "source": [
    "# Test if the basic attributes work\n",
    "rot = RotatedMNIST([0, 15, 30], train=False)\n",
    "\n",
    "print(rot.domains)\n",
    "print(rot.classes)\n",
    "print(rot.train)\n",
    "print(rot.val_set_size)\n",
    "print(rot.root)"
   ]
  }
 ],
 "metadata": {
  "kernelspec": {
   "display_name": "rot-cinn",
   "language": "python",
   "name": "python3"
  },
  "language_info": {
   "codemirror_mode": {
    "name": "ipython",
    "version": 3
   },
   "file_extension": ".py",
   "mimetype": "text/x-python",
   "name": "python",
   "nbconvert_exporter": "python",
   "pygments_lexer": "ipython3",
   "version": "3.10.10"
  },
  "orig_nbformat": 4
 },
 "nbformat": 4,
 "nbformat_minor": 2
}
