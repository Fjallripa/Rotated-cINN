{
 "cells": [
  {
   "cell_type": "code",
   "execution_count": 1,
   "metadata": {},
   "outputs": [],
   "source": [
    "import os\n",
    "import numpy as np\n",
    "import torch\n",
    "from torch.utils.data import Dataset, DataLoader\n",
    "from torchvision import datasets, transforms"
   ]
  },
  {
   "cell_type": "code",
   "execution_count": 2,
   "metadata": {},
   "outputs": [],
   "source": [
    "class RotatedMNIST(Dataset):\n",
    "    '''\n",
    "    Creates a custom RotatedMNIST dataset.\n",
    "    '''\n",
    "\n",
    "    def __init__(self, domains: list[int], train: bool, val_set_size: int=0, seed: int=None) -> None:\n",
    "        super().__init__()\n",
    "\n",
    "        # Set attributes\n",
    "        self.domains = torch.tensor(domains)\n",
    "        self.train = train\n",
    "        self.val_set_size = val_set_size\n",
    "\n",
    "        #self.root = os.path.dirname(os.path.realpath(__file__))\n",
    "        ##Test code\n",
    "        self.root = os.path.abspath(\".\")  # this works for .ipynb files\n",
    "        \n",
    "        if seed != None:\n",
    "            torch.manual_seed(seed)\n",
    "        self.classes = torch.tensor(range(10))\n",
    "    \n",
    "\n",
    "        # Create dataset\n",
    "        mnist = datasets.MNIST(root=self.root, train=self.train, download=True, transform=transforms.ToTensor())\n",
    "        ##Test code\n",
    "        self.mnist = mnist\n",
    "        self.data, self.targets = self._process_data(mnist)\n",
    "\n",
    "    def _process_data(self, dataset):\n",
    "        # Shuffle and normalize the images. normalize: uint8 (0..255) -> float32 (0..1)\n",
    "        loader = DataLoader(dataset, batch_size=len(dataset.targets), shuffle=True)\n",
    "        images, class_labels = next(iter(loader))\n",
    "        images = images.squeeze(1)   # remove the batch dimension\n",
    "        #Test code\n",
    "        self.images = images\n",
    "        self.class_labels = class_labels\n",
    "\n",
    "        # Create domain indices\n",
    "        domain_count = len(self.domains)\n",
    "        domain_indeces = torch.randint_like(class_labels, domain_count)\n",
    "        ##Test code\n",
    "        self.domain_count = domain_count\n",
    "        self.domain_indeces = domain_indeces\n",
    "\n",
    "        # Create the new domain & class label for the cINN\n",
    "        domains_sincos = torch.tensor([[np.cos(angle), np.sin(angle)]  for angle in np.deg2rad(self.domains)], dtype = torch.float32)\n",
    "        classes_onehot = torch.eye(10)\n",
    "        sincos_labels = domains_sincos[domain_indeces]\n",
    "        onehot_labels = classes_onehot[class_labels]\n",
    "        cinn_labels = torch.cat((sincos_labels, onehot_labels), 1)\n",
    "        ##Test code\n",
    "        self.domains_sincos = domains_sincos\n",
    "        self.cinn_labels = cinn_labels\n",
    "        self.domain_labels = self.domains[domain_indeces]  # rotations\n",
    "        \n",
    "        ##Test code\n",
    "        return images, class_labels\n"
   ]
  },
  {
   "attachments": {},
   "cell_type": "markdown",
   "metadata": {},
   "source": [
    "### Testing _process_data() -> cINN labels"
   ]
  },
  {
   "cell_type": "code",
   "execution_count": 3,
   "metadata": {},
   "outputs": [
    {
     "name": "stdout",
     "output_type": "stream",
     "text": [
      "tensor([-10,  15,  30, 180, 720])\n",
      "tensor([[ 0.9848,  0.9659,  0.8660, -1.0000,  1.0000],\n",
      "        [-0.1736,  0.2588,  0.5000,  0.0000, -0.0000]])\n",
      "\n",
      "tensor([180, 180,  15,  15, 720,  30, 180, 720])\n",
      "tensor([[-1.0000, -1.0000,  0.9659,  0.9659,  1.0000,  0.8660, -1.0000,  1.0000],\n",
      "        [ 0.0000,  0.0000,  0.2588,  0.2588, -0.0000,  0.5000,  0.0000, -0.0000]])\n",
      "\n",
      "tensor([3, 9, 4, 9, 9, 0, 8, 3])\n",
      "tensor([[0., 0., 0., 0., 0., 1., 0., 0.],\n",
      "        [0., 0., 0., 0., 0., 0., 0., 0.],\n",
      "        [0., 0., 0., 0., 0., 0., 0., 0.],\n",
      "        [1., 0., 0., 0., 0., 0., 0., 1.],\n",
      "        [0., 0., 1., 0., 0., 0., 0., 0.],\n",
      "        [0., 0., 0., 0., 0., 0., 0., 0.],\n",
      "        [0., 0., 0., 0., 0., 0., 0., 0.],\n",
      "        [0., 0., 0., 0., 0., 0., 0., 0.],\n",
      "        [0., 0., 0., 0., 0., 0., 1., 0.],\n",
      "        [0., 1., 0., 1., 1., 0., 0., 0.]])\n",
      "\n",
      "tensor([[-1.0000, -1.0000,  0.9659,  0.9659,  1.0000,  0.8660, -1.0000,  1.0000],\n",
      "        [ 0.0000,  0.0000,  0.2588,  0.2588, -0.0000,  0.5000,  0.0000, -0.0000],\n",
      "        [ 0.0000,  0.0000,  0.0000,  0.0000,  0.0000,  1.0000,  0.0000,  0.0000],\n",
      "        [ 0.0000,  0.0000,  0.0000,  0.0000,  0.0000,  0.0000,  0.0000,  0.0000],\n",
      "        [ 0.0000,  0.0000,  0.0000,  0.0000,  0.0000,  0.0000,  0.0000,  0.0000],\n",
      "        [ 1.0000,  0.0000,  0.0000,  0.0000,  0.0000,  0.0000,  0.0000,  1.0000],\n",
      "        [ 0.0000,  0.0000,  1.0000,  0.0000,  0.0000,  0.0000,  0.0000,  0.0000],\n",
      "        [ 0.0000,  0.0000,  0.0000,  0.0000,  0.0000,  0.0000,  0.0000,  0.0000],\n",
      "        [ 0.0000,  0.0000,  0.0000,  0.0000,  0.0000,  0.0000,  0.0000,  0.0000],\n",
      "        [ 0.0000,  0.0000,  0.0000,  0.0000,  0.0000,  0.0000,  0.0000,  0.0000],\n",
      "        [ 0.0000,  0.0000,  0.0000,  0.0000,  0.0000,  0.0000,  1.0000,  0.0000],\n",
      "        [ 0.0000,  1.0000,  0.0000,  1.0000,  1.0000,  0.0000,  0.0000,  0.0000]])\n"
     ]
    }
   ],
   "source": [
    "# Test if creating sincos and onehot codes and combining them to cinn labels works correctly\n",
    "rot = RotatedMNIST([-10, 15, 30, 180, 720], train=False, seed=1)\n",
    "\n",
    "print(rot.domains)\n",
    "print(rot.domains_sincos.T.round(decimals=4))\n",
    "print(\"\")\n",
    "\n",
    "print(rot.domain_labels[:8])\n",
    "print(rot.cinn_labels[:8, :2].T.round(decimals=4))\n",
    "print(\"\")\n",
    "\n",
    "print(rot.class_labels[:8])\n",
    "print(rot.cinn_labels[:8, 2:].T.round(decimals=4))\n",
    "print(\"\")\n",
    "\n",
    "print(rot.cinn_labels[:8].T.round(decimals=4))"
   ]
  },
  {
   "attachments": {},
   "cell_type": "markdown",
   "metadata": {},
   "source": [
    "### Testing _process_data() -> domain indices"
   ]
  },
  {
   "cell_type": "code",
   "execution_count": 4,
   "metadata": {},
   "outputs": [
    {
     "name": "stdout",
     "output_type": "stream",
     "text": [
      "tensor([3, 4, 1, 3, 1, 3, 3, 4, 0, 1])\n",
      "\n",
      "tensor([2, 1, 2, 1, 1, 2, 3, 4, 1, 1])\n",
      "\n",
      "tensor([3, 3, 1, 1, 4, 2, 3, 4, 1, 3])\n",
      "\n",
      "tensor([3, 3, 1, 1, 4, 2, 3, 4, 1, 3])\n",
      "\n"
     ]
    }
   ],
   "source": [
    "# Test if seed still applies to domain_label sampling\n",
    "rot_sets = [\n",
    "    RotatedMNIST([-10, 15, 30, 180, 720], train=False),\n",
    "    RotatedMNIST([-10, 15, 30, 180, 720], train=False),\n",
    "    RotatedMNIST([-10, 15, 30, 180, 720], train=False, seed=1),\n",
    "    RotatedMNIST([-10, 15, 30, 180, 720], train=False, seed=1),\n",
    "]\n",
    "\n",
    "for rot in rot_sets:\n",
    "    print(rot.domain_indeces[:10])\n",
    "    print(\"\")\n",
    "    "
   ]
  },
  {
   "cell_type": "code",
   "execution_count": 5,
   "metadata": {},
   "outputs": [
    {
     "name": "stdout",
     "output_type": "stream",
     "text": [
      "3\n",
      "torch.Size([10000])\n",
      "tensor([30, 15,  0, 30, 30,  0,  0, 15,  0, 30])\n",
      "\n",
      "1\n",
      "torch.Size([10000])\n",
      "tensor([0, 0, 0, 0, 0, 0, 0, 0, 0, 0])\n",
      "\n",
      "5\n",
      "torch.Size([10000])\n",
      "tensor([ 15,  15,  30, -10,  30, -10,  15,  15, 720, 180])\n",
      "\n"
     ]
    }
   ],
   "source": [
    "# Test if domain_count and domain_labels are produced correctly\n",
    "rot_sets = [\n",
    "    RotatedMNIST([0, 15, 30], train=False),\n",
    "    RotatedMNIST([0], train=False),\n",
    "    RotatedMNIST([-10, 15, 30, 180, 720], train=False),\n",
    "]\n",
    "\n",
    "for rot in rot_sets:\n",
    "    print(rot.domain_count)\n",
    "    print(rot.domain_labels.shape)\n",
    "    print(rot.domain_labels[:10])\n",
    "    print(\"\")"
   ]
  },
  {
   "attachments": {},
   "cell_type": "markdown",
   "metadata": {},
   "source": [
    "### Testing _process_data() -> dataloader"
   ]
  },
  {
   "cell_type": "code",
   "execution_count": 6,
   "metadata": {},
   "outputs": [
    {
     "name": "stdout",
     "output_type": "stream",
     "text": [
      "<class 'torch.Tensor'>\n",
      "torch.Size([10000, 28, 28])\n",
      "torch.float32\n",
      "tensor(0.) tensor(1.)\n",
      "\n",
      "<class 'torch.Tensor'>\n",
      "torch.Size([10000])\n",
      "torch.int64\n",
      "tensor(0) tensor(9)\n",
      "\n"
     ]
    }
   ],
   "source": [
    "# Test if the dataloader works for the test set too\n",
    "rot = RotatedMNIST([0, 15, 30], train=False)\n",
    "\n",
    "data = rot.images\n",
    "print(type(data))\n",
    "print(data.shape)\n",
    "print(data.dtype)\n",
    "print(data.min(), data.max())\n",
    "print(\"\")\n",
    "\n",
    "targets = rot.class_labels\n",
    "print(type(targets))\n",
    "print(targets.shape)\n",
    "print(targets.dtype)\n",
    "print(targets.min(), targets.max())\n",
    "print(\"\")"
   ]
  },
  {
   "cell_type": "code",
   "execution_count": 7,
   "metadata": {},
   "outputs": [
    {
     "name": "stdout",
     "output_type": "stream",
     "text": [
      "<class 'torch.Tensor'>\n",
      "torch.Size([60000, 28, 28])\n",
      "torch.float32\n",
      "tensor(0.) tensor(1.)\n",
      "\n",
      "<class 'torch.Tensor'>\n",
      "torch.Size([60000])\n",
      "torch.int64\n",
      "tensor(0) tensor(9)\n",
      "\n"
     ]
    }
   ],
   "source": [
    "# Test if the dataloader does what it should\n",
    "rot = RotatedMNIST([0, 15, 30], train=True)\n",
    "\n",
    "data = rot.images\n",
    "print(type(data))\n",
    "print(data.shape)\n",
    "print(data.dtype)\n",
    "print(data.min(), data.max())\n",
    "print(\"\")\n",
    "\n",
    "targets = rot.class_labels\n",
    "print(type(targets))\n",
    "print(targets.shape)\n",
    "print(targets.dtype)\n",
    "print(targets.min(), targets.max())\n",
    "print(\"\")"
   ]
  },
  {
   "cell_type": "code",
   "execution_count": 8,
   "metadata": {},
   "outputs": [
    {
     "name": "stdout",
     "output_type": "stream",
     "text": [
      "tensor([5, 0, 4, 1, 9, 2, 1, 3, 1, 4])\n",
      "tensor([3, 1, 5, 2, 0, 8, 5, 2, 5, 4])\n",
      "\n",
      "tensor([5, 0, 4, 1, 9, 2, 1, 3, 1, 4])\n",
      "tensor([3, 6, 9, 3, 9, 2, 5, 2, 2, 1])\n",
      "\n",
      "tensor([5, 0, 4, 1, 9, 2, 1, 3, 1, 4])\n",
      "tensor([4, 8, 8, 6, 7, 1, 0, 7, 1, 8])\n",
      "\n",
      "tensor([5, 0, 4, 1, 9, 2, 1, 3, 1, 4])\n",
      "tensor([4, 8, 8, 6, 7, 1, 0, 7, 1, 8])\n",
      "\n"
     ]
    }
   ],
   "source": [
    "# Test if manual seeds work\n",
    "rot_set = [\n",
    "    RotatedMNIST([0, 15, 30], train=True),\n",
    "    RotatedMNIST([0, 15, 30], train=True),\n",
    "    RotatedMNIST([0, 15, 30], train=True, seed=1),\n",
    "    RotatedMNIST([0, 15, 30], train=True, seed=1),\n",
    "]\n",
    "\n",
    "for rot in rot_set:\n",
    "    print(rot.mnist.targets[:10])\n",
    "    print(rot.class_labels[:10])\n",
    "    print(\"\")"
   ]
  },
  {
   "attachments": {},
   "cell_type": "markdown",
   "metadata": {},
   "source": [
    "### Testing init() -> mnist dateset"
   ]
  },
  {
   "cell_type": "code",
   "execution_count": 9,
   "metadata": {},
   "outputs": [
    {
     "name": "stdout",
     "output_type": "stream",
     "text": [
      "<class 'torch.Tensor'>\n",
      "torch.Size([10000, 28, 28])\n",
      "torch.uint8\n",
      "tensor(0, dtype=torch.uint8) tensor(255, dtype=torch.uint8)\n",
      "\n",
      "<class 'torch.Tensor'>\n",
      "torch.Size([10000])\n",
      "torch.int64\n",
      "tensor(0) tensor(9)\n",
      "\n"
     ]
    }
   ],
   "source": [
    "# Test if train=False loads the mnist test set\n",
    "rot = RotatedMNIST([0, 15, 30], train=False)\n",
    "\n",
    "data = rot.mnist.data\n",
    "print(type(data))\n",
    "print(data.shape)\n",
    "print(data.dtype)\n",
    "print(data.min(), data.max())\n",
    "print(\"\")\n",
    "\n",
    "targets = rot.mnist.targets\n",
    "print(type(targets))\n",
    "print(targets.shape)\n",
    "print(targets.dtype)\n",
    "print(targets.min(), targets.max())\n",
    "print(\"\")"
   ]
  },
  {
   "cell_type": "code",
   "execution_count": 10,
   "metadata": {},
   "outputs": [
    {
     "name": "stdout",
     "output_type": "stream",
     "text": [
      "['0 - zero', '1 - one', '2 - two', '3 - three', '4 - four', '5 - five', '6 - six', '7 - seven', '8 - eight', '9 - nine']\n",
      "\n",
      "<class 'torch.Tensor'>\n",
      "torch.Size([60000, 28, 28])\n",
      "torch.uint8\n",
      "tensor(0, dtype=torch.uint8) tensor(255, dtype=torch.uint8)\n",
      "\n",
      "<class 'torch.Tensor'>\n",
      "torch.Size([60000])\n",
      "torch.int64\n",
      "tensor(0) tensor(9)\n",
      "\n"
     ]
    }
   ],
   "source": [
    "# Test if the mnist dataset is loaded correctly\n",
    "rot = RotatedMNIST([0, 15, 30], train=True)\n",
    "\n",
    "print(rot.mnist.classes)\n",
    "print(\"\")\n",
    "\n",
    "data = rot.mnist.data\n",
    "print(type(data))\n",
    "print(data.shape)\n",
    "print(data.dtype)\n",
    "print(data.min(), data.max())\n",
    "print(\"\")\n",
    "\n",
    "targets = rot.mnist.targets\n",
    "print(type(targets))\n",
    "print(targets.shape)\n",
    "print(targets.dtype)\n",
    "print(targets.min(), targets.max())\n",
    "print(\"\")"
   ]
  },
  {
   "cell_type": "code",
   "execution_count": 11,
   "metadata": {},
   "outputs": [
    {
     "name": "stdout",
     "output_type": "stream",
     "text": [
      "/home/birk/Documents/Programmieren/Bachelor Thesis/Own Code/Rotated-cINN/rotated_cinn/code_tests\n",
      "tensor([ 0, 15, 30])\n",
      "True\n",
      "0\n",
      "tensor([0, 1, 2, 3, 4, 5, 6, 7, 8, 9])\n"
     ]
    }
   ],
   "source": [
    "# Test if the basic attributes work\n",
    "rot = RotatedMNIST([0, 15, 30], train=True)\n",
    "\n",
    "print(rot.root)\n",
    "print(rot.domains)\n",
    "print(rot.train)\n",
    "print(rot.val_set_size)\n",
    "print(rot.classes)"
   ]
  }
 ],
 "metadata": {
  "kernelspec": {
   "display_name": "rot-cinn",
   "language": "python",
   "name": "python3"
  },
  "language_info": {
   "codemirror_mode": {
    "name": "ipython",
    "version": 3
   },
   "file_extension": ".py",
   "mimetype": "text/x-python",
   "name": "python",
   "nbconvert_exporter": "python",
   "pygments_lexer": "ipython3",
   "version": "3.10.10"
  },
  "orig_nbformat": 4
 },
 "nbformat": 4,
 "nbformat_minor": 2
}
