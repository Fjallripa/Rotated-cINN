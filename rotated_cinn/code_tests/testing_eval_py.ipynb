{
 "cells": [
  {
   "cell_type": "code",
   "execution_count": 1,
   "metadata": {},
   "outputs": [],
   "source": [
    "# Imports\n",
    "import torch\n",
    "import matplotlib.pyplot as plt\n",
    "import numpy as np\n",
    "\n",
    "import path   # adds repo to PATH\n",
    "from modules.model import Rotated_cINN\n",
    "from modules.data import RotatedMNIST"
   ]
  },
  {
   "cell_type": "code",
   "execution_count": 2,
   "metadata": {},
   "outputs": [],
   "source": [
    "# Parameters\n",
    "save_path = path.package_directory + '/trained_models/rotated_cinn.pt'\n",
    "device = 'cuda'  if torch.cuda.is_available() else  'cpu'\n",
    "random_seed = 1\n",
    "train_domains = [-23, 0, 23, 45, 90, 180]\n",
    "test_domains = [-135, -90, -45, 10, 30, 60, 75, 135]\n",
    "samples_per_domain = 100\n",
    "ndim_total = 28 * 28"
   ]
  },
  {
   "cell_type": "code",
   "execution_count": 26,
   "metadata": {},
   "outputs": [],
   "source": [
    "# Main functions\n",
    "## Plotting losses\n",
    "def show_domain_bar_plot(train_loss:dict[list], test_loss:dict[list]) -> None:\n",
    "\n",
    "    fig, ax = plt.subplots(layout='constrained')\n",
    "\n",
    "    # Spots for the bars on the x-axis\n",
    "    test_spots = np.arange(len(test_loss['angles']))\n",
    "    train_spots = np.nonzero(np.in1d(test_loss['angles'], train_loss['angles']))[0]\n",
    "    width = 1/3  # the width of the bars\n",
    "    \n",
    "    # Train and test bars with error\n",
    "    ax.bar(train_spots - width/2, train_loss['mean'], width=width, label='train')\n",
    "    ax.errorbar(train_spots - width/2, train_loss['mean'], train_loss['err'], fmt=',', ecolor='black')\n",
    "    ax.bar(test_spots + width/2, test_loss['mean'], width=width, label='test')\n",
    "    ax.errorbar(test_spots + width/2, test_loss['mean'], test_loss['err'], fmt=',', ecolor='black')\n",
    "\n",
    "    # Title, labels, etc.\n",
    "    ax.set_title('MaxLikelihood loss of Rotated cINN')\n",
    "    #ax.set_ylim(0, 1.1 * max(max(train_loss['angles']), max(test_loss['angles'])))\n",
    "    ax.set_xticks(test_spots, labels=test_loss['angles'])\n",
    "    ax.legend(loc='upper center', ncols=2)\n",
    "\n",
    "    plt.show()"
   ]
  },
  {
   "cell_type": "code",
   "execution_count": 4,
   "metadata": {},
   "outputs": [],
   "source": [
    "### Support functions for show_domain_bar_plot()\n",
    "def compute_loss(model_output: torch.Tensor) -> tuple[float]:\n",
    "    z, log_j = model_output\n",
    "    losses = (z**2).mean(dim=1) / 2 - log_j / ndim_total\n",
    "    std, mean = torch.std_mean(losses)\n",
    "    mean_err = std / len(z)\n",
    "\n",
    "    return (float(mean), float(mean_err))"
   ]
  },
  {
   "cell_type": "code",
   "execution_count": 18,
   "metadata": {},
   "outputs": [],
   "source": [
    "def get_per_domain_loss(domains:list[int], dataset:RotatedMNIST, model:Rotated_cINN, number:int) -> dict[list]:\n",
    "    loss_info = {'angles':domains, 'mean':[], 'err':[]}\n",
    "    for domain in domains:\n",
    "        domain_indices = torch.argwhere(domain == dataset.domain_labels)\n",
    "        used_indices = domain_indices[:number].squeeze(1)\n",
    "        \n",
    "        data = dataset.data[used_indices]\n",
    "        targets = dataset.targets[used_indices]\n",
    "        output = model(data, targets)\n",
    "        \n",
    "        mean, err = compute_loss(output)\n",
    "        loss_info['mean'].append(mean)\n",
    "        loss_info['err'].append(err)\n",
    "\n",
    "    return loss_info"
   ]
  },
  {
   "cell_type": "code",
   "execution_count": 6,
   "metadata": {},
   "outputs": [],
   "source": [
    "## Showing generated images\n",
    "def show_example_images():\n",
    "    pass"
   ]
  },
  {
   "cell_type": "code",
   "execution_count": 19,
   "metadata": {},
   "outputs": [],
   "source": [
    "# Main code\n",
    "if __name__ == \"__main__\":\n",
    "    torch.no_grad()\n",
    "    \n",
    "    # Load trained model\n",
    "    cinn = Rotated_cINN().to(device)\n",
    "    state_dict = {k:v for k,v in torch.load(save_path).items() if 'tmp_var' not in k}\n",
    "    cinn.load_state_dict(state_dict)\n",
    "    cinn.eval()\n",
    "\n",
    "    # Load datasets\n",
    "    all_domains = sorted(train_domains + test_domains)\n",
    "    train_set = RotatedMNIST(domains=train_domains, train=True, seed=random_seed, val_set_size=1000)\n",
    "    test_set = RotatedMNIST(domains=all_domains, train=False, seed=random_seed)\n"
   ]
  },
  {
   "cell_type": "code",
   "execution_count": 27,
   "metadata": {},
   "outputs": [
    {
     "data": {
      "image/png": "[encoded data removed]",
      "text/plain": [
       "<Figure size 640x480 with 1 Axes>"
      ]
     },
     "metadata": {},
     "output_type": "display_data"
    }
   ],
   "source": [
    "    # Calculate loss for each domain\n",
    "    train_domain_loss = get_per_domain_loss(train_domains, train_set, cinn, samples_per_domain)\n",
    "    test_domain_loss = get_per_domain_loss(all_domains, test_set, cinn, samples_per_domain)\n",
    "\n",
    "    # Plot losses\n",
    "    show_domain_bar_plot(train_domain_loss, test_domain_loss)"
   ]
  },
  {
   "cell_type": "code",
   "execution_count": null,
   "metadata": {},
   "outputs": [
    {
     "data": {
      "text/plain": [
       "[-135, -90, -45, -23, 0, 10, 23, 30, 45, 60, 75, 90, 135, 180]"
      ]
     },
     "execution_count": 8,
     "metadata": {},
     "output_type": "execute_result"
    }
   ],
   "source": [
    "all_domains"
   ]
  },
  {
   "cell_type": "code",
   "execution_count": 8,
   "metadata": {},
   "outputs": [
    {
     "data": {
      "text/plain": [
       "{'angles': [-23, 0, 23, 45, 90, 180],\n",
       " 'mean': [-4.445914268493652,\n",
       "  -4.565443992614746,\n",
       "  -4.566565990447998,\n",
       "  -4.558806419372559,\n",
       "  -4.48470401763916,\n",
       "  -4.53723669052124],\n",
       " 'err': [0.0040816362015903,\n",
       "  0.003116009524092078,\n",
       "  0.0037074731662869453,\n",
       "  0.00319852028042078,\n",
       "  0.0030246952082961798,\n",
       "  0.0035322392359375954]}"
      ]
     },
     "execution_count": 8,
     "metadata": {},
     "output_type": "execute_result"
    }
   ],
   "source": [
    "train_domain_loss"
   ]
  },
  {
   "cell_type": "code",
   "execution_count": null,
   "metadata": {},
   "outputs": [
    {
     "name": "stdout",
     "output_type": "stream",
     "text": [
      "tensor([  5,  11,  12,  16,  21,  33,  42,  46,  49,  55,  71,  77,  81,  91,\n",
      "        101, 112, 115, 128, 132, 140, 142, 144, 148, 151, 153, 157, 162, 165,\n",
      "        172, 175, 179, 181, 182, 185, 191, 195, 198, 203, 215, 220, 222, 237,\n",
      "        241, 254, 259, 261, 272, 288, 290, 293, 294, 298, 299, 304, 308, 324,\n",
      "        337, 339, 340, 342, 345, 348, 365, 370, 379, 383, 390, 393, 404, 407,\n",
      "        411, 414, 427, 432, 435, 436, 455, 457, 463, 465, 470, 471, 472, 474,\n",
      "        480, 492, 495, 504, 506, 510, 517, 521, 528, 532, 534, 537, 544, 561,\n",
      "        568, 574])\n",
      "tensor([-23, -23, -23, -23, -23, -23, -23, -23, -23, -23, -23, -23, -23, -23,\n",
      "        -23, -23, -23, -23, -23, -23, -23, -23, -23, -23, -23, -23, -23, -23,\n",
      "        -23, -23, -23, -23, -23, -23, -23, -23, -23, -23, -23, -23, -23, -23,\n",
      "        -23, -23, -23, -23, -23, -23, -23, -23, -23, -23, -23, -23, -23, -23,\n",
      "        -23, -23, -23, -23, -23, -23, -23, -23, -23, -23, -23, -23, -23, -23,\n",
      "        -23, -23, -23, -23, -23, -23, -23, -23, -23, -23, -23, -23, -23, -23,\n",
      "        -23, -23, -23, -23, -23, -23, -23, -23, -23, -23, -23, -23, -23, -23,\n",
      "        -23, -23])\n",
      "<class 'torch.Tensor'> torch.Size([100])\n",
      "<class 'torch.Tensor'> torch.Size([100])\n",
      "-4.445914268493652 0.0040816362015903\n"
     ]
    }
   ],
   "source": [
    "domain = train_domains[0]\n",
    "dataset = train_set\n",
    "number = samples_per_domain\n",
    "model = cinn\n",
    "\n",
    "\n",
    "domain_indices = torch.argwhere(domain == dataset.domain_labels)\n",
    "used_indices = domain_indices[:number].squeeze(1)\n",
    "print(used_indices)\n",
    "print(dataset.domain_labels[used_indices])\n",
    "\n",
    "data = dataset.data[used_indices]\n",
    "targets = dataset.targets[used_indices]\n",
    "output = model(data, targets)\n",
    "z, log_j = output\n",
    "print(type(z), (z**2).mean(dim=1).shape)\n",
    "print(type(log_j), log_j.shape)\n",
    "\n",
    "mean, err = compute_loss(output)\n",
    "print(mean, err)\n"
   ]
  },
  {
   "cell_type": "code",
   "execution_count": null,
   "metadata": {},
   "outputs": [],
   "source": []
  }
 ],
 "metadata": {
  "kernelspec": {
   "display_name": "rot-cinn",
   "language": "python",
   "name": "python3"
  },
  "language_info": {
   "codemirror_mode": {
    "name": "ipython",
    "version": 3
   },
   "file_extension": ".py",
   "mimetype": "text/x-python",
   "name": "python",
   "nbconvert_exporter": "python",
   "pygments_lexer": "ipython3",
   "version": "3.10.10"
  },
  "orig_nbformat": 4
 },
 "nbformat": 4,
 "nbformat_minor": 2
}
